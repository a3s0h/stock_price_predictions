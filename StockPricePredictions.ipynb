{
  "cells": [
    {
      "cell_type": "markdown",
      "metadata": {
        "id": "view-in-github",
        "colab_type": "text"
      },
      "source": [
        "<a href=\"https://colab.research.google.com/github/a3s0h/stock_price_predictions/blob/main/StockPricePredictions.ipynb\" target=\"_parent\"><img src=\"https://colab.research.google.com/assets/colab-badge.svg\" alt=\"Open In Colab\"/></a>"
      ]
    },
    {
      "cell_type": "code",
      "execution_count": null,
      "metadata": {
        "id": "54PDHDHIO_ny"
      },
      "outputs": [],
      "source": [
        "import os\n",
        "import pandas_datareader as pdr\n",
        "import pandas as pd\n",
        "import matplotlib.pyplot as plt\n",
        "import numpy as np\n",
        "from tensorflow.keras.models import Sequential\n",
        "from tensorflow.keras.layers import Dense\n",
        "from tensorflow.keras.layers import LSTM"
      ]
    },
    {
      "cell_type": "code",
      "execution_count": null,
      "metadata": {
        "colab": {
          "base_uri": "https://localhost:8080/",
          "height": 272
        },
        "id": "0Nr2F1QoR8Qe",
        "outputId": "5cf5c3cc-afa4-4062-978c-2a0065f986e9"
      },
      "outputs": [
        {
          "output_type": "stream",
          "name": "stderr",
          "text": [
            "/usr/local/lib/python3.8/dist-packages/pandas_datareader/tiingo.py:234: FutureWarning: In a future version of pandas all arguments of concat except for the argument 'objs' will be keyword-only\n",
            "  return pd.concat(dfs, self._concat_axis)\n"
          ]
        },
        {
          "output_type": "execute_result",
          "data": {
            "text/plain": [
              "                                   close    high     low    open    volume  \\\n",
              "symbol date                                                                  \n",
              "AAPL   2018-01-30 00:00:00+00:00  166.97  167.37  164.70  165.53  45137026   \n",
              "       2018-01-31 00:00:00+00:00  167.43  168.44  166.50  166.87  30984099   \n",
              "       2018-02-01 00:00:00+00:00  167.78  168.62  166.76  167.17  38099665   \n",
              "       2018-02-02 00:00:00+00:00  160.50  166.80  160.10  166.00  85436075   \n",
              "       2018-02-05 00:00:00+00:00  156.49  163.88  156.00  159.10  66090446   \n",
              "\n",
              "                                   adjClose    adjHigh     adjLow    adjOpen  \\\n",
              "symbol date                                                                    \n",
              "AAPL   2018-01-30 00:00:00+00:00  39.640986  39.735952  39.102057  39.299110   \n",
              "       2018-01-31 00:00:00+00:00  39.750196  39.989984  39.529402  39.617245   \n",
              "       2018-02-01 00:00:00+00:00  39.833291  40.032719  39.591129  39.688469   \n",
              "       2018-02-02 00:00:00+00:00  38.104919  39.600626  38.009953  39.410695   \n",
              "       2018-02-05 00:00:00+00:00  37.152889  38.907377  37.036556  37.772539   \n",
              "\n",
              "                                  adjVolume  divCash  splitFactor  \n",
              "symbol date                                                        \n",
              "AAPL   2018-01-30 00:00:00+00:00  180548104      0.0          1.0  \n",
              "       2018-01-31 00:00:00+00:00  123936396      0.0          1.0  \n",
              "       2018-02-01 00:00:00+00:00  152398660      0.0          1.0  \n",
              "       2018-02-02 00:00:00+00:00  341744300      0.0          1.0  \n",
              "       2018-02-05 00:00:00+00:00  264361784      0.0          1.0  "
            ],
            "text/html": [
              "\n",
              "  <div id=\"df-60e79d6c-15b8-498c-a2a0-ea8c356ea137\">\n",
              "    <div class=\"colab-df-container\">\n",
              "      <div>\n",
              "<style scoped>\n",
              "    .dataframe tbody tr th:only-of-type {\n",
              "        vertical-align: middle;\n",
              "    }\n",
              "\n",
              "    .dataframe tbody tr th {\n",
              "        vertical-align: top;\n",
              "    }\n",
              "\n",
              "    .dataframe thead th {\n",
              "        text-align: right;\n",
              "    }\n",
              "</style>\n",
              "<table border=\"1\" class=\"dataframe\">\n",
              "  <thead>\n",
              "    <tr style=\"text-align: right;\">\n",
              "      <th></th>\n",
              "      <th></th>\n",
              "      <th>close</th>\n",
              "      <th>high</th>\n",
              "      <th>low</th>\n",
              "      <th>open</th>\n",
              "      <th>volume</th>\n",
              "      <th>adjClose</th>\n",
              "      <th>adjHigh</th>\n",
              "      <th>adjLow</th>\n",
              "      <th>adjOpen</th>\n",
              "      <th>adjVolume</th>\n",
              "      <th>divCash</th>\n",
              "      <th>splitFactor</th>\n",
              "    </tr>\n",
              "    <tr>\n",
              "      <th>symbol</th>\n",
              "      <th>date</th>\n",
              "      <th></th>\n",
              "      <th></th>\n",
              "      <th></th>\n",
              "      <th></th>\n",
              "      <th></th>\n",
              "      <th></th>\n",
              "      <th></th>\n",
              "      <th></th>\n",
              "      <th></th>\n",
              "      <th></th>\n",
              "      <th></th>\n",
              "      <th></th>\n",
              "    </tr>\n",
              "  </thead>\n",
              "  <tbody>\n",
              "    <tr>\n",
              "      <th rowspan=\"5\" valign=\"top\">AAPL</th>\n",
              "      <th>2018-01-30 00:00:00+00:00</th>\n",
              "      <td>166.97</td>\n",
              "      <td>167.37</td>\n",
              "      <td>164.70</td>\n",
              "      <td>165.53</td>\n",
              "      <td>45137026</td>\n",
              "      <td>39.640986</td>\n",
              "      <td>39.735952</td>\n",
              "      <td>39.102057</td>\n",
              "      <td>39.299110</td>\n",
              "      <td>180548104</td>\n",
              "      <td>0.0</td>\n",
              "      <td>1.0</td>\n",
              "    </tr>\n",
              "    <tr>\n",
              "      <th>2018-01-31 00:00:00+00:00</th>\n",
              "      <td>167.43</td>\n",
              "      <td>168.44</td>\n",
              "      <td>166.50</td>\n",
              "      <td>166.87</td>\n",
              "      <td>30984099</td>\n",
              "      <td>39.750196</td>\n",
              "      <td>39.989984</td>\n",
              "      <td>39.529402</td>\n",
              "      <td>39.617245</td>\n",
              "      <td>123936396</td>\n",
              "      <td>0.0</td>\n",
              "      <td>1.0</td>\n",
              "    </tr>\n",
              "    <tr>\n",
              "      <th>2018-02-01 00:00:00+00:00</th>\n",
              "      <td>167.78</td>\n",
              "      <td>168.62</td>\n",
              "      <td>166.76</td>\n",
              "      <td>167.17</td>\n",
              "      <td>38099665</td>\n",
              "      <td>39.833291</td>\n",
              "      <td>40.032719</td>\n",
              "      <td>39.591129</td>\n",
              "      <td>39.688469</td>\n",
              "      <td>152398660</td>\n",
              "      <td>0.0</td>\n",
              "      <td>1.0</td>\n",
              "    </tr>\n",
              "    <tr>\n",
              "      <th>2018-02-02 00:00:00+00:00</th>\n",
              "      <td>160.50</td>\n",
              "      <td>166.80</td>\n",
              "      <td>160.10</td>\n",
              "      <td>166.00</td>\n",
              "      <td>85436075</td>\n",
              "      <td>38.104919</td>\n",
              "      <td>39.600626</td>\n",
              "      <td>38.009953</td>\n",
              "      <td>39.410695</td>\n",
              "      <td>341744300</td>\n",
              "      <td>0.0</td>\n",
              "      <td>1.0</td>\n",
              "    </tr>\n",
              "    <tr>\n",
              "      <th>2018-02-05 00:00:00+00:00</th>\n",
              "      <td>156.49</td>\n",
              "      <td>163.88</td>\n",
              "      <td>156.00</td>\n",
              "      <td>159.10</td>\n",
              "      <td>66090446</td>\n",
              "      <td>37.152889</td>\n",
              "      <td>38.907377</td>\n",
              "      <td>37.036556</td>\n",
              "      <td>37.772539</td>\n",
              "      <td>264361784</td>\n",
              "      <td>0.0</td>\n",
              "      <td>1.0</td>\n",
              "    </tr>\n",
              "  </tbody>\n",
              "</table>\n",
              "</div>\n",
              "      <button class=\"colab-df-convert\" onclick=\"convertToInteractive('df-60e79d6c-15b8-498c-a2a0-ea8c356ea137')\"\n",
              "              title=\"Convert this dataframe to an interactive table.\"\n",
              "              style=\"display:none;\">\n",
              "        \n",
              "  <svg xmlns=\"http://www.w3.org/2000/svg\" height=\"24px\"viewBox=\"0 0 24 24\"\n",
              "       width=\"24px\">\n",
              "    <path d=\"M0 0h24v24H0V0z\" fill=\"none\"/>\n",
              "    <path d=\"M18.56 5.44l.94 2.06.94-2.06 2.06-.94-2.06-.94-.94-2.06-.94 2.06-2.06.94zm-11 1L8.5 8.5l.94-2.06 2.06-.94-2.06-.94L8.5 2.5l-.94 2.06-2.06.94zm10 10l.94 2.06.94-2.06 2.06-.94-2.06-.94-.94-2.06-.94 2.06-2.06.94z\"/><path d=\"M17.41 7.96l-1.37-1.37c-.4-.4-.92-.59-1.43-.59-.52 0-1.04.2-1.43.59L10.3 9.45l-7.72 7.72c-.78.78-.78 2.05 0 2.83L4 21.41c.39.39.9.59 1.41.59.51 0 1.02-.2 1.41-.59l7.78-7.78 2.81-2.81c.8-.78.8-2.07 0-2.86zM5.41 20L4 18.59l7.72-7.72 1.47 1.35L5.41 20z\"/>\n",
              "  </svg>\n",
              "      </button>\n",
              "      \n",
              "  <style>\n",
              "    .colab-df-container {\n",
              "      display:flex;\n",
              "      flex-wrap:wrap;\n",
              "      gap: 12px;\n",
              "    }\n",
              "\n",
              "    .colab-df-convert {\n",
              "      background-color: #E8F0FE;\n",
              "      border: none;\n",
              "      border-radius: 50%;\n",
              "      cursor: pointer;\n",
              "      display: none;\n",
              "      fill: #1967D2;\n",
              "      height: 32px;\n",
              "      padding: 0 0 0 0;\n",
              "      width: 32px;\n",
              "    }\n",
              "\n",
              "    .colab-df-convert:hover {\n",
              "      background-color: #E2EBFA;\n",
              "      box-shadow: 0px 1px 2px rgba(60, 64, 67, 0.3), 0px 1px 3px 1px rgba(60, 64, 67, 0.15);\n",
              "      fill: #174EA6;\n",
              "    }\n",
              "\n",
              "    [theme=dark] .colab-df-convert {\n",
              "      background-color: #3B4455;\n",
              "      fill: #D2E3FC;\n",
              "    }\n",
              "\n",
              "    [theme=dark] .colab-df-convert:hover {\n",
              "      background-color: #434B5C;\n",
              "      box-shadow: 0px 1px 3px 1px rgba(0, 0, 0, 0.15);\n",
              "      filter: drop-shadow(0px 1px 2px rgba(0, 0, 0, 0.3));\n",
              "      fill: #FFFFFF;\n",
              "    }\n",
              "  </style>\n",
              "\n",
              "      <script>\n",
              "        const buttonEl =\n",
              "          document.querySelector('#df-60e79d6c-15b8-498c-a2a0-ea8c356ea137 button.colab-df-convert');\n",
              "        buttonEl.style.display =\n",
              "          google.colab.kernel.accessAllowed ? 'block' : 'none';\n",
              "\n",
              "        async function convertToInteractive(key) {\n",
              "          const element = document.querySelector('#df-60e79d6c-15b8-498c-a2a0-ea8c356ea137');\n",
              "          const dataTable =\n",
              "            await google.colab.kernel.invokeFunction('convertToInteractive',\n",
              "                                                     [key], {});\n",
              "          if (!dataTable) return;\n",
              "\n",
              "          const docLinkHtml = 'Like what you see? Visit the ' +\n",
              "            '<a target=\"_blank\" href=https://colab.research.google.com/notebooks/data_table.ipynb>data table notebook</a>'\n",
              "            + ' to learn more about interactive tables.';\n",
              "          element.innerHTML = '';\n",
              "          dataTable['output_type'] = 'display_data';\n",
              "          await google.colab.output.renderOutput(dataTable, element);\n",
              "          const docLink = document.createElement('div');\n",
              "          docLink.innerHTML = docLinkHtml;\n",
              "          element.appendChild(docLink);\n",
              "        }\n",
              "      </script>\n",
              "    </div>\n",
              "  </div>\n",
              "  "
            ]
          },
          "metadata": {},
          "execution_count": 3
        }
      ],
      "source": [
        "df = pdr.get_data_tiingo('AAPL', api_key=(\"369cb75786596bff94626331ed73921581f7dacd\"))\n",
        "df.head()"
      ]
    },
    {
      "cell_type": "code",
      "execution_count": null,
      "metadata": {
        "id": "0kGvX52ISOtb"
      },
      "outputs": [],
      "source": [
        "df.to_csv('AAPL.csv')"
      ]
    },
    {
      "cell_type": "code",
      "source": [],
      "metadata": {
        "id": "piimPT68TnQi"
      },
      "execution_count": null,
      "outputs": []
    },
    {
      "cell_type": "code",
      "execution_count": null,
      "metadata": {
        "id": "xOzfTPH6ShmK"
      },
      "outputs": [],
      "source": [
        "import pandas as pd\n"
      ]
    },
    {
      "cell_type": "code",
      "execution_count": null,
      "metadata": {
        "id": "-VpjhryNSksi"
      },
      "outputs": [],
      "source": [
        "df=pd.read_csv('AAPL.csv')\n"
      ]
    },
    {
      "cell_type": "code",
      "source": [
        "df.tail()"
      ],
      "metadata": {
        "colab": {
          "base_uri": "https://localhost:8080/",
          "height": 206
        },
        "id": "mSx0-sxhTols",
        "outputId": "d8806eff-59b5-403c-96f8-47b829f7016e"
      },
      "execution_count": null,
      "outputs": [
        {
          "output_type": "execute_result",
          "data": {
            "text/plain": [
              "     symbol                       date   close     high     low     open  \\\n",
              "1253   AAPL  2023-01-23 00:00:00+00:00  141.11  143.315  137.90  138.120   \n",
              "1254   AAPL  2023-01-24 00:00:00+00:00  142.53  143.160  140.30  140.305   \n",
              "1255   AAPL  2023-01-25 00:00:00+00:00  141.86  142.430  138.81  140.890   \n",
              "1256   AAPL  2023-01-26 00:00:00+00:00  143.96  144.250  141.90  143.170   \n",
              "1257   AAPL  2023-01-27 00:00:00+00:00  145.93  147.230  143.08  143.155   \n",
              "\n",
              "        volume  adjClose  adjHigh  adjLow  adjOpen  adjVolume  divCash  \\\n",
              "1253  81760313    141.11  143.315  137.90  138.120   81760313      0.0   \n",
              "1254  66435142    142.53  143.160  140.30  140.305   66435142      0.0   \n",
              "1255  65799349    141.86  142.430  138.81  140.890   65799349      0.0   \n",
              "1256  54105068    143.96  144.250  141.90  143.170   54105068      0.0   \n",
              "1257  70555843    145.93  147.230  143.08  143.155   70555843      0.0   \n",
              "\n",
              "      splitFactor  \n",
              "1253          1.0  \n",
              "1254          1.0  \n",
              "1255          1.0  \n",
              "1256          1.0  \n",
              "1257          1.0  "
            ],
            "text/html": [
              "\n",
              "  <div id=\"df-eff305ea-7539-4ded-8bb7-313156329855\">\n",
              "    <div class=\"colab-df-container\">\n",
              "      <div>\n",
              "<style scoped>\n",
              "    .dataframe tbody tr th:only-of-type {\n",
              "        vertical-align: middle;\n",
              "    }\n",
              "\n",
              "    .dataframe tbody tr th {\n",
              "        vertical-align: top;\n",
              "    }\n",
              "\n",
              "    .dataframe thead th {\n",
              "        text-align: right;\n",
              "    }\n",
              "</style>\n",
              "<table border=\"1\" class=\"dataframe\">\n",
              "  <thead>\n",
              "    <tr style=\"text-align: right;\">\n",
              "      <th></th>\n",
              "      <th>symbol</th>\n",
              "      <th>date</th>\n",
              "      <th>close</th>\n",
              "      <th>high</th>\n",
              "      <th>low</th>\n",
              "      <th>open</th>\n",
              "      <th>volume</th>\n",
              "      <th>adjClose</th>\n",
              "      <th>adjHigh</th>\n",
              "      <th>adjLow</th>\n",
              "      <th>adjOpen</th>\n",
              "      <th>adjVolume</th>\n",
              "      <th>divCash</th>\n",
              "      <th>splitFactor</th>\n",
              "    </tr>\n",
              "  </thead>\n",
              "  <tbody>\n",
              "    <tr>\n",
              "      <th>1253</th>\n",
              "      <td>AAPL</td>\n",
              "      <td>2023-01-23 00:00:00+00:00</td>\n",
              "      <td>141.11</td>\n",
              "      <td>143.315</td>\n",
              "      <td>137.90</td>\n",
              "      <td>138.120</td>\n",
              "      <td>81760313</td>\n",
              "      <td>141.11</td>\n",
              "      <td>143.315</td>\n",
              "      <td>137.90</td>\n",
              "      <td>138.120</td>\n",
              "      <td>81760313</td>\n",
              "      <td>0.0</td>\n",
              "      <td>1.0</td>\n",
              "    </tr>\n",
              "    <tr>\n",
              "      <th>1254</th>\n",
              "      <td>AAPL</td>\n",
              "      <td>2023-01-24 00:00:00+00:00</td>\n",
              "      <td>142.53</td>\n",
              "      <td>143.160</td>\n",
              "      <td>140.30</td>\n",
              "      <td>140.305</td>\n",
              "      <td>66435142</td>\n",
              "      <td>142.53</td>\n",
              "      <td>143.160</td>\n",
              "      <td>140.30</td>\n",
              "      <td>140.305</td>\n",
              "      <td>66435142</td>\n",
              "      <td>0.0</td>\n",
              "      <td>1.0</td>\n",
              "    </tr>\n",
              "    <tr>\n",
              "      <th>1255</th>\n",
              "      <td>AAPL</td>\n",
              "      <td>2023-01-25 00:00:00+00:00</td>\n",
              "      <td>141.86</td>\n",
              "      <td>142.430</td>\n",
              "      <td>138.81</td>\n",
              "      <td>140.890</td>\n",
              "      <td>65799349</td>\n",
              "      <td>141.86</td>\n",
              "      <td>142.430</td>\n",
              "      <td>138.81</td>\n",
              "      <td>140.890</td>\n",
              "      <td>65799349</td>\n",
              "      <td>0.0</td>\n",
              "      <td>1.0</td>\n",
              "    </tr>\n",
              "    <tr>\n",
              "      <th>1256</th>\n",
              "      <td>AAPL</td>\n",
              "      <td>2023-01-26 00:00:00+00:00</td>\n",
              "      <td>143.96</td>\n",
              "      <td>144.250</td>\n",
              "      <td>141.90</td>\n",
              "      <td>143.170</td>\n",
              "      <td>54105068</td>\n",
              "      <td>143.96</td>\n",
              "      <td>144.250</td>\n",
              "      <td>141.90</td>\n",
              "      <td>143.170</td>\n",
              "      <td>54105068</td>\n",
              "      <td>0.0</td>\n",
              "      <td>1.0</td>\n",
              "    </tr>\n",
              "    <tr>\n",
              "      <th>1257</th>\n",
              "      <td>AAPL</td>\n",
              "      <td>2023-01-27 00:00:00+00:00</td>\n",
              "      <td>145.93</td>\n",
              "      <td>147.230</td>\n",
              "      <td>143.08</td>\n",
              "      <td>143.155</td>\n",
              "      <td>70555843</td>\n",
              "      <td>145.93</td>\n",
              "      <td>147.230</td>\n",
              "      <td>143.08</td>\n",
              "      <td>143.155</td>\n",
              "      <td>70555843</td>\n",
              "      <td>0.0</td>\n",
              "      <td>1.0</td>\n",
              "    </tr>\n",
              "  </tbody>\n",
              "</table>\n",
              "</div>\n",
              "      <button class=\"colab-df-convert\" onclick=\"convertToInteractive('df-eff305ea-7539-4ded-8bb7-313156329855')\"\n",
              "              title=\"Convert this dataframe to an interactive table.\"\n",
              "              style=\"display:none;\">\n",
              "        \n",
              "  <svg xmlns=\"http://www.w3.org/2000/svg\" height=\"24px\"viewBox=\"0 0 24 24\"\n",
              "       width=\"24px\">\n",
              "    <path d=\"M0 0h24v24H0V0z\" fill=\"none\"/>\n",
              "    <path d=\"M18.56 5.44l.94 2.06.94-2.06 2.06-.94-2.06-.94-.94-2.06-.94 2.06-2.06.94zm-11 1L8.5 8.5l.94-2.06 2.06-.94-2.06-.94L8.5 2.5l-.94 2.06-2.06.94zm10 10l.94 2.06.94-2.06 2.06-.94-2.06-.94-.94-2.06-.94 2.06-2.06.94z\"/><path d=\"M17.41 7.96l-1.37-1.37c-.4-.4-.92-.59-1.43-.59-.52 0-1.04.2-1.43.59L10.3 9.45l-7.72 7.72c-.78.78-.78 2.05 0 2.83L4 21.41c.39.39.9.59 1.41.59.51 0 1.02-.2 1.41-.59l7.78-7.78 2.81-2.81c.8-.78.8-2.07 0-2.86zM5.41 20L4 18.59l7.72-7.72 1.47 1.35L5.41 20z\"/>\n",
              "  </svg>\n",
              "      </button>\n",
              "      \n",
              "  <style>\n",
              "    .colab-df-container {\n",
              "      display:flex;\n",
              "      flex-wrap:wrap;\n",
              "      gap: 12px;\n",
              "    }\n",
              "\n",
              "    .colab-df-convert {\n",
              "      background-color: #E8F0FE;\n",
              "      border: none;\n",
              "      border-radius: 50%;\n",
              "      cursor: pointer;\n",
              "      display: none;\n",
              "      fill: #1967D2;\n",
              "      height: 32px;\n",
              "      padding: 0 0 0 0;\n",
              "      width: 32px;\n",
              "    }\n",
              "\n",
              "    .colab-df-convert:hover {\n",
              "      background-color: #E2EBFA;\n",
              "      box-shadow: 0px 1px 2px rgba(60, 64, 67, 0.3), 0px 1px 3px 1px rgba(60, 64, 67, 0.15);\n",
              "      fill: #174EA6;\n",
              "    }\n",
              "\n",
              "    [theme=dark] .colab-df-convert {\n",
              "      background-color: #3B4455;\n",
              "      fill: #D2E3FC;\n",
              "    }\n",
              "\n",
              "    [theme=dark] .colab-df-convert:hover {\n",
              "      background-color: #434B5C;\n",
              "      box-shadow: 0px 1px 3px 1px rgba(0, 0, 0, 0.15);\n",
              "      filter: drop-shadow(0px 1px 2px rgba(0, 0, 0, 0.3));\n",
              "      fill: #FFFFFF;\n",
              "    }\n",
              "  </style>\n",
              "\n",
              "      <script>\n",
              "        const buttonEl =\n",
              "          document.querySelector('#df-eff305ea-7539-4ded-8bb7-313156329855 button.colab-df-convert');\n",
              "        buttonEl.style.display =\n",
              "          google.colab.kernel.accessAllowed ? 'block' : 'none';\n",
              "\n",
              "        async function convertToInteractive(key) {\n",
              "          const element = document.querySelector('#df-eff305ea-7539-4ded-8bb7-313156329855');\n",
              "          const dataTable =\n",
              "            await google.colab.kernel.invokeFunction('convertToInteractive',\n",
              "                                                     [key], {});\n",
              "          if (!dataTable) return;\n",
              "\n",
              "          const docLinkHtml = 'Like what you see? Visit the ' +\n",
              "            '<a target=\"_blank\" href=https://colab.research.google.com/notebooks/data_table.ipynb>data table notebook</a>'\n",
              "            + ' to learn more about interactive tables.';\n",
              "          element.innerHTML = '';\n",
              "          dataTable['output_type'] = 'display_data';\n",
              "          await google.colab.output.renderOutput(dataTable, element);\n",
              "          const docLink = document.createElement('div');\n",
              "          docLink.innerHTML = docLinkHtml;\n",
              "          element.appendChild(docLink);\n",
              "        }\n",
              "      </script>\n",
              "    </div>\n",
              "  </div>\n",
              "  "
            ]
          },
          "metadata": {},
          "execution_count": 65
        }
      ]
    },
    {
      "cell_type": "code",
      "execution_count": null,
      "metadata": {
        "colab": {
          "base_uri": "https://localhost:8080/",
          "height": 206
        },
        "id": "y7epDmUHSnAp",
        "outputId": "10ebaab8-9c5f-4110-805c-ecf6a55d13a6"
      },
      "outputs": [
        {
          "output_type": "execute_result",
          "data": {
            "text/plain": [
              "  symbol                       date   close    high     low    open    volume  \\\n",
              "0   AAPL  2018-01-30 00:00:00+00:00  166.97  167.37  164.70  165.53  45137026   \n",
              "1   AAPL  2018-01-31 00:00:00+00:00  167.43  168.44  166.50  166.87  30984099   \n",
              "2   AAPL  2018-02-01 00:00:00+00:00  167.78  168.62  166.76  167.17  38099665   \n",
              "3   AAPL  2018-02-02 00:00:00+00:00  160.50  166.80  160.10  166.00  85436075   \n",
              "4   AAPL  2018-02-05 00:00:00+00:00  156.49  163.88  156.00  159.10  66090446   \n",
              "\n",
              "    adjClose    adjHigh     adjLow    adjOpen  adjVolume  divCash  splitFactor  \n",
              "0  39.640986  39.735952  39.102057  39.299110  180548104      0.0          1.0  \n",
              "1  39.750196  39.989984  39.529402  39.617245  123936396      0.0          1.0  \n",
              "2  39.833291  40.032719  39.591129  39.688469  152398660      0.0          1.0  \n",
              "3  38.104919  39.600626  38.009953  39.410695  341744300      0.0          1.0  \n",
              "4  37.152889  38.907377  37.036556  37.772539  264361784      0.0          1.0  "
            ],
            "text/html": [
              "\n",
              "  <div id=\"df-bf823ed5-9f3a-4eed-a126-aa6f64a64799\">\n",
              "    <div class=\"colab-df-container\">\n",
              "      <div>\n",
              "<style scoped>\n",
              "    .dataframe tbody tr th:only-of-type {\n",
              "        vertical-align: middle;\n",
              "    }\n",
              "\n",
              "    .dataframe tbody tr th {\n",
              "        vertical-align: top;\n",
              "    }\n",
              "\n",
              "    .dataframe thead th {\n",
              "        text-align: right;\n",
              "    }\n",
              "</style>\n",
              "<table border=\"1\" class=\"dataframe\">\n",
              "  <thead>\n",
              "    <tr style=\"text-align: right;\">\n",
              "      <th></th>\n",
              "      <th>symbol</th>\n",
              "      <th>date</th>\n",
              "      <th>close</th>\n",
              "      <th>high</th>\n",
              "      <th>low</th>\n",
              "      <th>open</th>\n",
              "      <th>volume</th>\n",
              "      <th>adjClose</th>\n",
              "      <th>adjHigh</th>\n",
              "      <th>adjLow</th>\n",
              "      <th>adjOpen</th>\n",
              "      <th>adjVolume</th>\n",
              "      <th>divCash</th>\n",
              "      <th>splitFactor</th>\n",
              "    </tr>\n",
              "  </thead>\n",
              "  <tbody>\n",
              "    <tr>\n",
              "      <th>0</th>\n",
              "      <td>AAPL</td>\n",
              "      <td>2018-01-30 00:00:00+00:00</td>\n",
              "      <td>166.97</td>\n",
              "      <td>167.37</td>\n",
              "      <td>164.70</td>\n",
              "      <td>165.53</td>\n",
              "      <td>45137026</td>\n",
              "      <td>39.640986</td>\n",
              "      <td>39.735952</td>\n",
              "      <td>39.102057</td>\n",
              "      <td>39.299110</td>\n",
              "      <td>180548104</td>\n",
              "      <td>0.0</td>\n",
              "      <td>1.0</td>\n",
              "    </tr>\n",
              "    <tr>\n",
              "      <th>1</th>\n",
              "      <td>AAPL</td>\n",
              "      <td>2018-01-31 00:00:00+00:00</td>\n",
              "      <td>167.43</td>\n",
              "      <td>168.44</td>\n",
              "      <td>166.50</td>\n",
              "      <td>166.87</td>\n",
              "      <td>30984099</td>\n",
              "      <td>39.750196</td>\n",
              "      <td>39.989984</td>\n",
              "      <td>39.529402</td>\n",
              "      <td>39.617245</td>\n",
              "      <td>123936396</td>\n",
              "      <td>0.0</td>\n",
              "      <td>1.0</td>\n",
              "    </tr>\n",
              "    <tr>\n",
              "      <th>2</th>\n",
              "      <td>AAPL</td>\n",
              "      <td>2018-02-01 00:00:00+00:00</td>\n",
              "      <td>167.78</td>\n",
              "      <td>168.62</td>\n",
              "      <td>166.76</td>\n",
              "      <td>167.17</td>\n",
              "      <td>38099665</td>\n",
              "      <td>39.833291</td>\n",
              "      <td>40.032719</td>\n",
              "      <td>39.591129</td>\n",
              "      <td>39.688469</td>\n",
              "      <td>152398660</td>\n",
              "      <td>0.0</td>\n",
              "      <td>1.0</td>\n",
              "    </tr>\n",
              "    <tr>\n",
              "      <th>3</th>\n",
              "      <td>AAPL</td>\n",
              "      <td>2018-02-02 00:00:00+00:00</td>\n",
              "      <td>160.50</td>\n",
              "      <td>166.80</td>\n",
              "      <td>160.10</td>\n",
              "      <td>166.00</td>\n",
              "      <td>85436075</td>\n",
              "      <td>38.104919</td>\n",
              "      <td>39.600626</td>\n",
              "      <td>38.009953</td>\n",
              "      <td>39.410695</td>\n",
              "      <td>341744300</td>\n",
              "      <td>0.0</td>\n",
              "      <td>1.0</td>\n",
              "    </tr>\n",
              "    <tr>\n",
              "      <th>4</th>\n",
              "      <td>AAPL</td>\n",
              "      <td>2018-02-05 00:00:00+00:00</td>\n",
              "      <td>156.49</td>\n",
              "      <td>163.88</td>\n",
              "      <td>156.00</td>\n",
              "      <td>159.10</td>\n",
              "      <td>66090446</td>\n",
              "      <td>37.152889</td>\n",
              "      <td>38.907377</td>\n",
              "      <td>37.036556</td>\n",
              "      <td>37.772539</td>\n",
              "      <td>264361784</td>\n",
              "      <td>0.0</td>\n",
              "      <td>1.0</td>\n",
              "    </tr>\n",
              "  </tbody>\n",
              "</table>\n",
              "</div>\n",
              "      <button class=\"colab-df-convert\" onclick=\"convertToInteractive('df-bf823ed5-9f3a-4eed-a126-aa6f64a64799')\"\n",
              "              title=\"Convert this dataframe to an interactive table.\"\n",
              "              style=\"display:none;\">\n",
              "        \n",
              "  <svg xmlns=\"http://www.w3.org/2000/svg\" height=\"24px\"viewBox=\"0 0 24 24\"\n",
              "       width=\"24px\">\n",
              "    <path d=\"M0 0h24v24H0V0z\" fill=\"none\"/>\n",
              "    <path d=\"M18.56 5.44l.94 2.06.94-2.06 2.06-.94-2.06-.94-.94-2.06-.94 2.06-2.06.94zm-11 1L8.5 8.5l.94-2.06 2.06-.94-2.06-.94L8.5 2.5l-.94 2.06-2.06.94zm10 10l.94 2.06.94-2.06 2.06-.94-2.06-.94-.94-2.06-.94 2.06-2.06.94z\"/><path d=\"M17.41 7.96l-1.37-1.37c-.4-.4-.92-.59-1.43-.59-.52 0-1.04.2-1.43.59L10.3 9.45l-7.72 7.72c-.78.78-.78 2.05 0 2.83L4 21.41c.39.39.9.59 1.41.59.51 0 1.02-.2 1.41-.59l7.78-7.78 2.81-2.81c.8-.78.8-2.07 0-2.86zM5.41 20L4 18.59l7.72-7.72 1.47 1.35L5.41 20z\"/>\n",
              "  </svg>\n",
              "      </button>\n",
              "      \n",
              "  <style>\n",
              "    .colab-df-container {\n",
              "      display:flex;\n",
              "      flex-wrap:wrap;\n",
              "      gap: 12px;\n",
              "    }\n",
              "\n",
              "    .colab-df-convert {\n",
              "      background-color: #E8F0FE;\n",
              "      border: none;\n",
              "      border-radius: 50%;\n",
              "      cursor: pointer;\n",
              "      display: none;\n",
              "      fill: #1967D2;\n",
              "      height: 32px;\n",
              "      padding: 0 0 0 0;\n",
              "      width: 32px;\n",
              "    }\n",
              "\n",
              "    .colab-df-convert:hover {\n",
              "      background-color: #E2EBFA;\n",
              "      box-shadow: 0px 1px 2px rgba(60, 64, 67, 0.3), 0px 1px 3px 1px rgba(60, 64, 67, 0.15);\n",
              "      fill: #174EA6;\n",
              "    }\n",
              "\n",
              "    [theme=dark] .colab-df-convert {\n",
              "      background-color: #3B4455;\n",
              "      fill: #D2E3FC;\n",
              "    }\n",
              "\n",
              "    [theme=dark] .colab-df-convert:hover {\n",
              "      background-color: #434B5C;\n",
              "      box-shadow: 0px 1px 3px 1px rgba(0, 0, 0, 0.15);\n",
              "      filter: drop-shadow(0px 1px 2px rgba(0, 0, 0, 0.3));\n",
              "      fill: #FFFFFF;\n",
              "    }\n",
              "  </style>\n",
              "\n",
              "      <script>\n",
              "        const buttonEl =\n",
              "          document.querySelector('#df-bf823ed5-9f3a-4eed-a126-aa6f64a64799 button.colab-df-convert');\n",
              "        buttonEl.style.display =\n",
              "          google.colab.kernel.accessAllowed ? 'block' : 'none';\n",
              "\n",
              "        async function convertToInteractive(key) {\n",
              "          const element = document.querySelector('#df-bf823ed5-9f3a-4eed-a126-aa6f64a64799');\n",
              "          const dataTable =\n",
              "            await google.colab.kernel.invokeFunction('convertToInteractive',\n",
              "                                                     [key], {});\n",
              "          if (!dataTable) return;\n",
              "\n",
              "          const docLinkHtml = 'Like what you see? Visit the ' +\n",
              "            '<a target=\"_blank\" href=https://colab.research.google.com/notebooks/data_table.ipynb>data table notebook</a>'\n",
              "            + ' to learn more about interactive tables.';\n",
              "          element.innerHTML = '';\n",
              "          dataTable['output_type'] = 'display_data';\n",
              "          await google.colab.output.renderOutput(dataTable, element);\n",
              "          const docLink = document.createElement('div');\n",
              "          docLink.innerHTML = docLinkHtml;\n",
              "          element.appendChild(docLink);\n",
              "        }\n",
              "      </script>\n",
              "    </div>\n",
              "  </div>\n",
              "  "
            ]
          },
          "metadata": {},
          "execution_count": 7
        }
      ],
      "source": [
        "df.head()"
      ]
    },
    {
      "cell_type": "code",
      "execution_count": null,
      "metadata": {
        "id": "UT2-8ObySpEZ"
      },
      "outputs": [],
      "source": [
        "df1=df.reset_index()['adjClose']\n"
      ]
    },
    {
      "cell_type": "code",
      "execution_count": null,
      "metadata": {
        "colab": {
          "base_uri": "https://localhost:8080/"
        },
        "id": "hQVvu9JMSvgZ",
        "outputId": "784c3cec-7811-44d2-9028-b09f7dce796f"
      },
      "outputs": [
        {
          "output_type": "execute_result",
          "data": {
            "text/plain": [
              "0        39.640986\n",
              "1        39.750196\n",
              "2        39.833291\n",
              "3        38.104919\n",
              "4        37.152889\n",
              "           ...    \n",
              "1253    141.110000\n",
              "1254    142.530000\n",
              "1255    141.860000\n",
              "1256    143.960000\n",
              "1257    145.930000\n",
              "Name: adjClose, Length: 1258, dtype: float64"
            ]
          },
          "metadata": {},
          "execution_count": 9
        }
      ],
      "source": [
        "df1"
      ]
    },
    {
      "cell_type": "code",
      "execution_count": null,
      "metadata": {
        "colab": {
          "base_uri": "https://localhost:8080/",
          "height": 282
        },
        "id": "KD4Ud5joSx56",
        "outputId": "3626fb35-5180-4fbf-9328-aaf1937b5841"
      },
      "outputs": [
        {
          "output_type": "execute_result",
          "data": {
            "text/plain": [
              "[<matplotlib.lines.Line2D at 0x7f2cd9e431f0>]"
            ]
          },
          "metadata": {},
          "execution_count": 10
        },
        {
          "output_type": "display_data",
          "data": {
            "text/plain": [
              "<Figure size 432x288 with 1 Axes>"
            ],
            "image/png": "[encoded data removed]"
          },
          "metadata": {
            "needs_background": "light"
          }
        }
      ],
      "source": [
        "import matplotlib.pyplot as plt\n",
        "plt.plot(df1)"
      ]
    },
    {
      "cell_type": "code",
      "execution_count": null,
      "metadata": {
        "id": "p_6uOzPTS8zB"
      },
      "outputs": [],
      "source": [
        "import numpy as np\n"
      ]
    },
    {
      "cell_type": "code",
      "execution_count": null,
      "metadata": {
        "id": "utbvsxfES_za"
      },
      "outputs": [],
      "source": [
        "from sklearn.preprocessing import MinMaxScaler\n",
        "scaler=MinMaxScaler(feature_range=(0,1))\n",
        "df1=scaler.fit_transform(np.array(df1).reshape(-1,1))"
      ]
    },
    {
      "cell_type": "code",
      "execution_count": null,
      "metadata": {
        "colab": {
          "base_uri": "https://localhost:8080/"
        },
        "id": "8R1PmXa3TEIZ",
        "outputId": "639741ae-78e8-4ab0-c454-e52945b6fc90"
      },
      "outputs": [
        {
          "output_type": "stream",
          "name": "stdout",
          "text": [
            "(1258, 1)\n"
          ]
        }
      ],
      "source": [
        "print(df1.shape)\n"
      ]
    },
    {
      "cell_type": "code",
      "execution_count": null,
      "metadata": {
        "id": "EMISuVSrTGkB"
      },
      "outputs": [],
      "source": [
        "##splitting dataset into train and test split\n",
        "training_size=int(len(df1)*0.65)\n",
        "test_size=len(df1)-training_size\n",
        "train_data,test_data=df1[0:training_size,:],df1[training_size:len(df1),:1]"
      ]
    },
    {
      "cell_type": "code",
      "execution_count": null,
      "metadata": {
        "colab": {
          "base_uri": "https://localhost:8080/"
        },
        "id": "Jh7ywgZo0zqg",
        "outputId": "60880249-54c7-4f3b-a579-eb3acea1ca10"
      },
      "outputs": [
        {
          "output_type": "stream",
          "name": "stdout",
          "text": [
            "[[0.66679614]\n",
            " [0.65316501]\n",
            " [0.66045294]\n",
            " [0.62880441]\n",
            " [0.63049143]\n",
            " [0.64155829]\n",
            " [0.64621447]\n",
            " [0.62350259]\n",
            " [0.61714867]\n",
            " [0.59592387]\n",
            " [0.61079475]\n",
            " [0.62755828]\n",
            " [0.61958208]\n",
            " [0.60998361]\n",
            " [0.60890209]\n",
            " [0.62661195]\n",
            " [0.61390411]\n",
            " [0.62519246]\n",
            " [0.62384056]\n",
            " [0.62350259]\n",
            " [0.61289019]\n",
            " [0.60836133]\n",
            " [0.6061307 ]\n",
            " [0.6114031 ]\n",
            " [0.60112868]\n",
            " [0.61701348]\n",
            " [0.61708107]\n",
            " [0.62275904]\n",
            " [0.62539525]\n",
            " [0.61850057]\n",
            " [0.62688233]\n",
            " [0.64803954]\n",
            " [0.64236157]\n",
            " [0.64580891]\n",
            " [0.65689447]\n",
            " [0.64790435]\n",
            " [0.66034181]\n",
            " [0.67169775]\n",
            " [0.66980509]\n",
            " [0.66784484]\n",
            " [0.665817  ]\n",
            " [0.67710534]\n",
            " [0.68758255]\n",
            " [0.69184103]\n",
            " [0.69393647]\n",
            " [0.7121195 ]\n",
            " [0.72604405]\n",
            " [0.74328075]\n",
            " [0.73429063]\n",
            " [0.74693087]\n",
            " [0.74280758]\n",
            " [0.7505134 ]\n",
            " [0.77423921]\n",
            " [0.76971035]\n",
            " [0.75558302]\n",
            " [0.72895063]\n",
            " [0.75396074]\n",
            " [0.74889113]\n",
            " [0.75835441]\n",
            " [0.77025111]\n",
            " [0.77315769]\n",
            " [0.75815163]\n",
            " [0.74605214]\n",
            " [0.7505134 ]\n",
            " [0.75200049]\n",
            " [0.74970226]\n",
            " [0.76213973]\n",
            " [0.75936833]\n",
            " [0.76011188]\n",
            " [0.75538024]\n",
            " [0.75504175]\n",
            " [0.75172462]\n",
            " [0.75348473]\n",
            " [0.77399682]\n",
            " [0.77541845]\n",
            " [0.78909317]\n",
            " [0.78279738]\n",
            " [0.75686956]\n",
            " [0.75917125]\n",
            " [0.76925805]\n",
            " [0.77954794]\n",
            " [0.77893867]\n",
            " [0.77040889]\n",
            " [0.76485777]\n",
            " [0.77203361]\n",
            " [0.8026325 ]\n",
            " [0.79389963]\n",
            " [0.79850301]\n",
            " [0.80622042]\n",
            " [0.81062071]\n",
            " [0.82680021]\n",
            " [0.81610414]\n",
            " [0.80906368]\n",
            " [0.77453839]\n",
            " [0.7784648 ]\n",
            " [0.76878417]\n",
            " [0.77494457]\n",
            " [0.77331985]\n",
            " [0.75483866]\n",
            " [0.73371731]\n",
            " [0.73703444]\n",
            " [0.75341703]\n",
            " [0.7600513 ]\n",
            " [0.76066057]\n",
            " [0.75016759]\n",
            " [0.72674455]\n",
            " [0.73297264]\n",
            " [0.72396899]\n",
            " [0.7317541 ]\n",
            " [0.70799258]\n",
            " [0.72132882]\n",
            " [0.72735382]\n",
            " [0.73608669]\n",
            " [0.73344652]\n",
            " [0.73283725]\n",
            " [0.72403668]\n",
            " [0.71997488]\n",
            " [0.73926843]\n",
            " [0.74657967]\n",
            " [0.7581558 ]\n",
            " [0.77311676]\n",
            " [0.77650159]\n",
            " [0.77799092]\n",
            " [0.77264288]\n",
            " [0.7723044 ]\n",
            " [0.77690777]\n",
            " [0.77372603]\n",
            " [0.79890919]\n",
            " [0.78015721]\n",
            " [0.77447069]\n",
            " [0.78164654]\n",
            " [0.79159795]\n",
            " [0.78801002]\n",
            " [0.79166564]\n",
            " [0.78597085]\n",
            " [0.78847927]\n",
            " [0.76888649]\n",
            " [0.76854751]\n",
            " [0.78292007]\n",
            " [0.78298787]\n",
            " [0.78976738]\n",
            " [0.80664836]\n",
            " [0.83634262]\n",
            " [0.85451171]\n",
            " [0.85769808]\n",
            " [0.86034208]\n",
            " [0.86393522]\n",
            " [0.82915634]\n",
            " [0.85241006]\n",
            " [0.88671438]\n",
            " [0.88312124]\n",
            " [0.87627393]\n",
            " [0.86325727]\n",
            " [0.88684997]\n",
            " [0.9265779 ]\n",
            " [0.95301799]\n",
            " [0.94949265]\n",
            " [0.98264445]\n",
            " [0.95749247]\n",
            " [0.94793336]\n",
            " [0.98162753]\n",
            " [0.93389977]\n",
            " [0.92630672]\n",
            " [0.9168832 ]\n",
            " [0.93884882]\n",
            " [0.95681452]\n",
            " [0.96115341]\n",
            " [0.98861042]\n",
            " [0.98155973]\n",
            " [0.98216989]\n",
            " [0.97417007]\n",
            " [0.96989897]\n",
            " [1.        ]\n",
            " [0.98433933]\n",
            " [0.95193327]\n",
            " [0.9321371 ]\n",
            " [0.93328962]\n",
            " [0.93342521]\n",
            " [0.95301799]\n",
            " [0.95606877]\n",
            " [0.93342521]\n",
            " [0.93939118]\n",
            " [0.91722218]\n",
            " [0.89301932]\n",
            " [0.88135857]\n",
            " [0.86712159]\n",
            " [0.86176578]\n",
            " [0.84929148]\n",
            " [0.84868133]\n",
            " [0.84549496]\n",
            " [0.92081532]\n",
            " [0.95098414]\n",
            " [0.94983162]\n",
            " [0.95817042]\n",
            " [0.93823866]\n",
            " [0.9362726 ]\n",
            " [0.93131724]\n",
            " [0.95283572]\n",
            " [0.96267855]\n",
            " [0.9344398 ]\n",
            " [0.91081699]\n",
            " [0.91244615]\n",
            " [0.93898787]\n",
            " [0.93735871]\n",
            " [0.91244615]\n",
            " [0.90172086]\n",
            " [0.88149213]\n",
            " [0.85264244]\n",
            " [0.87076684]\n",
            " [0.88508986]\n",
            " [0.88692266]\n",
            " [0.87388939]\n",
            " [0.89669762]\n",
            " [0.89445752]\n",
            " [0.87368575]\n",
            " [0.84741556]\n",
            " [0.83478958]\n",
            " [0.87219235]\n",
            " [0.84212079]\n",
            " [0.81639366]\n",
            " [0.78849431]\n",
            " [0.81883739]\n",
            " [0.84938412]\n",
            " [0.85637593]\n",
            " [0.87918416]\n",
            " [0.88868758]\n",
            " [0.91203886]\n",
            " [0.92147441]\n",
            " [0.94767671]\n",
            " [0.95208902]\n",
            " [0.9580626 ]\n",
            " [0.98087083]\n",
            " [0.97279291]\n",
            " [0.95134232]\n",
            " [0.94930587]\n",
            " [0.97734098]\n",
            " [0.954397  ]\n",
            " [0.93247123]\n",
            " [0.93457556]\n",
            " [0.92065983]\n",
            " [0.8911992 ]\n",
            " [0.90416459]\n",
            " [0.92276416]\n",
            " [0.88807665]\n",
            " [0.88658325]\n",
            " [0.90239967]\n",
            " [0.90124568]\n",
            " [0.89574727]\n",
            " [0.86431808]\n",
            " [0.87171718]\n",
            " [0.83044515]\n",
            " [0.82888387]\n",
            " [0.87687618]\n",
            " [0.83621509]\n",
            " [0.83831942]\n",
            " [0.84863743]\n",
            " [0.89303201]\n",
            " [0.83024151]\n",
            " [0.83526475]\n",
            " [0.79977872]\n",
            " [0.81643404]\n",
            " [0.76198135]\n",
            " [0.73519688]\n",
            " [0.76612818]\n",
            " [0.75545518]\n",
            " [0.78060811]\n",
            " [0.7233682 ]\n",
            " [0.69977883]\n",
            " [0.70141037]\n",
            " [0.73893582]\n",
            " [0.72024108]\n",
            " [0.72132877]\n",
            " [0.74349054]\n",
            " [0.78332735]\n",
            " [0.77788887]\n",
            " [0.77700512]\n",
            " [0.79400035]\n",
            " [0.75436749]\n",
            " [0.75953403]\n",
            " [0.77700512]\n",
            " [0.77190656]\n",
            " [0.73574072]\n",
            " [0.69828325]\n",
            " [0.66259328]\n",
            " [0.6685756 ]\n",
            " [0.6867265 ]\n",
            " [0.65022076]\n",
            " [0.6604179 ]\n",
            " [0.68971766]\n",
            " [0.68618265]\n",
            " [0.70603307]\n",
            " [0.7290786 ]\n",
            " [0.7290786 ]\n",
            " [0.70039066]\n",
            " [0.71255924]\n",
            " [0.69549604]\n",
            " [0.71051981]\n",
            " [0.72839879]\n",
            " [0.73764419]\n",
            " [0.76096163]\n",
            " [0.76565231]\n",
            " [0.75090046]\n",
            " [0.75763057]\n",
            " [0.75511528]\n",
            " [0.77537358]\n",
            " [0.78693033]\n",
            " [0.76585626]\n",
            " [0.79257275]\n",
            " [0.80644085]\n",
            " [0.82214443]\n",
            " [0.81357884]\n",
            " [0.80582902]\n",
            " [0.7966516 ]\n",
            " [0.83193368]\n",
            " [0.83574061]\n",
            " [0.87081875]\n",
            " [0.86402066]\n",
            " [0.85382353]\n",
            " [0.89542783]\n",
            " [0.89325245]\n",
            " [0.89168889]\n",
            " [0.88842126]\n",
            " [0.88876164]\n",
            " [0.91817024]\n",
            " [0.91306458]\n",
            " [0.93763982]\n",
            " [0.94506004]\n",
            " [0.94397083]\n",
            " [0.9543183 ]\n",
            " [0.95159528]\n",
            " [0.93369144]\n",
            " [0.90680164]\n",
            " [0.90448707]\n",
            " [0.90652933]\n",
            " [0.9235482 ]\n",
            " [0.87991183]\n",
            " [0.86466293]\n",
            " [0.84784829]\n",
            " [0.83634354]\n",
            " [0.84138113]\n",
            " [0.82674491]\n",
            " [0.81803125]\n",
            " [0.82776604]\n",
            " [0.81755472]\n",
            " [0.83736468]\n",
            " [0.8786184 ]\n",
            " [0.81333404]\n",
            " [0.82334113]\n",
            " [0.80332695]\n",
            " [0.79195835]\n",
            " [0.81769087]\n",
            " [0.83416513]\n",
            " [0.81251714]\n",
            " [0.80584574]\n",
            " [0.79012031]\n",
            " [0.79243488]\n",
            " [0.79917435]\n",
            " [0.78610386]\n",
            " [0.73600033]\n",
            " [0.70686404]\n",
            " [0.7357961 ]\n",
            " [0.76064364]\n",
            " [0.76268591]\n",
            " [0.75608259]\n",
            " [0.7197303 ]\n",
            " [0.72197679]\n",
            " [0.71217392]\n",
            " [0.70781709]\n",
            " [0.73947218]\n",
            " [0.70808939]\n",
            " [0.7355238 ]\n",
            " [0.74464591]\n",
            " [0.74539474]\n",
            " [0.74219519]\n",
            " [0.76860847]\n",
            " [0.78344892]\n",
            " [0.80312272]\n",
            " [0.78276816]\n",
            " [0.75179383]\n",
            " [0.82626838]\n",
            " [0.80993027]\n",
            " [0.79161797]\n",
            " [0.75335957]\n",
            " [0.71149317]\n",
            " [0.70965513]\n",
            " [0.71333731]\n",
            " [0.71729225]\n",
            " [0.68572093]\n",
            " [0.76754725]\n",
            " [0.78684462]\n",
            " [0.77716184]\n",
            " [0.78916304]\n",
            " [0.78063946]\n",
            " [0.79379986]\n",
            " [0.79768661]\n",
            " [0.77532075]\n",
            " [0.79011768]\n",
            " [0.79618646]\n",
            " [0.77600264]\n",
            " [0.74947727]\n",
            " [0.72867975]\n",
            " [0.77545713]\n",
            " [0.77736641]\n",
            " [0.77395698]\n",
            " [0.76591072]\n",
            " [0.74054456]\n",
            " [0.72711141]\n",
            " [0.73877166]\n",
            " [0.73543042]\n",
            " [0.75131836]\n",
            " [0.75800085]\n",
            " [0.74259022]\n",
            " [0.69683567]\n",
            " [0.68326614]\n",
            " [0.66867378]\n",
            " [0.66819646]\n",
            " [0.68967587]\n",
            " [0.66771914]\n",
            " [0.66633287]\n",
            " [0.65383858]\n",
            " [0.62659693]\n",
            " [0.65097104]\n",
            " [0.65315583]\n",
            " [0.61997427]\n",
            " [0.62878172]\n",
            " [0.6196329 ]\n",
            " [0.65103931]\n",
            " [0.65465788]\n",
            " [0.65861781]\n",
            " [0.67746166]\n",
            " [0.67691546]\n",
            " [0.68613256]\n",
            " [0.69418899]\n",
            " [0.68920493]\n",
            " [0.68961457]\n",
            " [0.70736602]\n",
            " [0.72948706]\n",
            " [0.73918208]\n",
            " [0.73460767]\n",
            " [0.74894538]\n",
            " [0.76239552]]\n"
          ]
        }
      ],
      "source": [
        "print(test_data)"
      ]
    },
    {
      "cell_type": "code",
      "execution_count": null,
      "metadata": {
        "colab": {
          "base_uri": "https://localhost:8080/"
        },
        "id": "kF-xdeZzTJbq",
        "outputId": "95370815-17b3-4474-f02a-256743cf8442"
      },
      "outputs": [
        {
          "output_type": "execute_result",
          "data": {
            "text/plain": [
              "(441, 1)"
            ]
          },
          "metadata": {},
          "execution_count": 16
        }
      ],
      "source": [
        "training_size,test_size\n",
        "test_data.shape"
      ]
    },
    {
      "cell_type": "code",
      "execution_count": null,
      "metadata": {
        "id": "gcp6Vao9TNTp"
      },
      "outputs": [],
      "source": [
        "import numpy\n",
        "# convert an array of values into a dataset matrix\n",
        "def create_dataset(dataset, time_step=1):\n",
        "\tdataX, dataY = [], []\n",
        "\tfor i in range(len(dataset)-time_step-1):\n",
        "\t\ta = dataset[i:(i+time_step), 0]   ###i=0, 0,1,2,3-----99   100 \n",
        "\t\tdataX.append(a)\n",
        "\t\tdataY.append(dataset[i + time_step, 0])\n",
        "\treturn numpy.array(dataX), numpy.array(dataY)"
      ]
    },
    {
      "cell_type": "code",
      "execution_count": null,
      "metadata": {
        "id": "n2d-OIo0TYMh"
      },
      "outputs": [],
      "source": [
        "# reshape into X=t,t+1,t+2,t+3 and Y=t+4\n",
        "time_step = 100\n",
        "X_train, y_train = create_dataset(train_data, time_step)\n",
        "X_test, ytest = create_dataset(test_data, time_step)"
      ]
    },
    {
      "cell_type": "code",
      "execution_count": null,
      "metadata": {
        "colab": {
          "base_uri": "https://localhost:8080/"
        },
        "id": "HTJiKfehTaXJ",
        "outputId": "86366144-52f7-4e88-cf94-8fa323c48558"
      },
      "outputs": [
        {
          "output_type": "stream",
          "name": "stdout",
          "text": [
            "(716, 100)\n",
            "(716,)\n"
          ]
        },
        {
          "output_type": "execute_result",
          "data": {
            "text/plain": [
              "(None, None)"
            ]
          },
          "metadata": {},
          "execution_count": 19
        }
      ],
      "source": [
        "print(X_train.shape), print(y_train.shape)\n"
      ]
    },
    {
      "cell_type": "code",
      "execution_count": null,
      "metadata": {
        "id": "TptlVn9mTceq",
        "colab": {
          "base_uri": "https://localhost:8080/"
        },
        "outputId": "526fe391-c8e7-4631-8f89-3ee927e50552"
      },
      "outputs": [
        {
          "output_type": "stream",
          "name": "stdout",
          "text": [
            "(340, 100)\n",
            "(340,)\n"
          ]
        },
        {
          "output_type": "execute_result",
          "data": {
            "text/plain": [
              "(None, None)"
            ]
          },
          "metadata": {},
          "execution_count": 20
        }
      ],
      "source": [
        "print(X_test.shape), print(ytest.shape)\n"
      ]
    },
    {
      "cell_type": "code",
      "execution_count": null,
      "metadata": {
        "id": "zxWzB8i5TeTy"
      },
      "outputs": [],
      "source": [
        "# reshape input to be [samples, time steps, features] which is required for LSTM\n",
        "X_train =X_train.reshape(X_train.shape[0],X_train.shape[1] , 1)\n",
        "X_test = X_test.reshape(X_test.shape[0],X_test.shape[1] , 1)"
      ]
    },
    {
      "cell_type": "code",
      "execution_count": null,
      "metadata": {
        "id": "s-imoF7sTgaK"
      },
      "outputs": [],
      "source": [
        "# from tensorflow.keras.models import Sequential\n",
        "# from tensorflow.keras.layers import Dense\n",
        "# from tensorflow.keras.layers import LSTM"
      ]
    },
    {
      "cell_type": "code",
      "execution_count": null,
      "metadata": {
        "id": "BSevgPMQTiqi"
      },
      "outputs": [],
      "source": [
        "model=Sequential()\n",
        "model.add(LSTM(50,return_sequences=True,input_shape=(100,1)))\n",
        "model.add(LSTM(50,return_sequences=True))\n",
        "# model.add(LSTM(32,return_sequences=True))\n",
        "model.add(LSTM(50))\n",
        "model.add(Dense(1))\n",
        "model.compile(loss='mean_squared_error',optimizer='adam',metrics =['mse'])"
      ]
    },
    {
      "cell_type": "code",
      "execution_count": null,
      "metadata": {
        "id": "wCBT26_UTmVZ",
        "colab": {
          "base_uri": "https://localhost:8080/"
        },
        "outputId": "d53560b1-302b-4516-aa12-36fde0165354"
      },
      "outputs": [
        {
          "output_type": "stream",
          "name": "stdout",
          "text": [
            "Model: \"sequential\"\n",
            "_________________________________________________________________\n",
            " Layer (type)                Output Shape              Param #   \n",
            "=================================================================\n",
            " lstm (LSTM)                 (None, 100, 50)           10400     \n",
            "                                                                 \n",
            " lstm_1 (LSTM)               (None, 100, 50)           20200     \n",
            "                                                                 \n",
            " lstm_2 (LSTM)               (None, 50)                20200     \n",
            "                                                                 \n",
            " dense (Dense)               (None, 1)                 51        \n",
            "                                                                 \n",
            "=================================================================\n",
            "Total params: 50,851\n",
            "Trainable params: 50,851\n",
            "Non-trainable params: 0\n",
            "_________________________________________________________________\n"
          ]
        }
      ],
      "source": [
        "model.summary()"
      ]
    },
    {
      "cell_type": "code",
      "execution_count": null,
      "metadata": {
        "id": "hgLlJ6jbTpsB",
        "colab": {
          "base_uri": "https://localhost:8080/"
        },
        "outputId": "1a2bae02-1ebd-45ab-b2ce-83fd16a24c74"
      },
      "outputs": [
        {
          "output_type": "stream",
          "name": "stdout",
          "text": [
            "Epoch 1/100\n",
            "12/12 [==============================] - 9s 303ms/step - loss: 0.0374 - mse: 0.0374 - val_loss: 0.0542 - val_mse: 0.0542\n",
            "Epoch 2/100\n",
            "12/12 [==============================] - 2s 183ms/step - loss: 0.0056 - mse: 0.0056 - val_loss: 0.0053 - val_mse: 0.0053\n",
            "Epoch 3/100\n",
            "12/12 [==============================] - 2s 186ms/step - loss: 0.0017 - mse: 0.0017 - val_loss: 0.0055 - val_mse: 0.0055\n",
            "Epoch 4/100\n",
            "12/12 [==============================] - 2s 179ms/step - loss: 0.0014 - mse: 0.0014 - val_loss: 0.0038 - val_mse: 0.0038\n",
            "Epoch 5/100\n",
            "12/12 [==============================] - 2s 184ms/step - loss: 0.0011 - mse: 0.0011 - val_loss: 0.0049 - val_mse: 0.0049\n",
            "Epoch 6/100\n",
            "12/12 [==============================] - 2s 170ms/step - loss: 0.0011 - mse: 0.0011 - val_loss: 0.0033 - val_mse: 0.0033\n",
            "Epoch 7/100\n",
            "12/12 [==============================] - 2s 176ms/step - loss: 0.0011 - mse: 0.0011 - val_loss: 0.0034 - val_mse: 0.0034\n",
            "Epoch 8/100\n",
            "12/12 [==============================] - 2s 178ms/step - loss: 0.0010 - mse: 0.0010 - val_loss: 0.0055 - val_mse: 0.0055\n",
            "Epoch 9/100\n",
            "12/12 [==============================] - 2s 172ms/step - loss: 0.0010 - mse: 0.0010 - val_loss: 0.0036 - val_mse: 0.0036\n",
            "Epoch 10/100\n",
            "12/12 [==============================] - 2s 171ms/step - loss: 0.0010 - mse: 0.0010 - val_loss: 0.0034 - val_mse: 0.0034\n",
            "Epoch 11/100\n",
            "12/12 [==============================] - 2s 173ms/step - loss: 9.6443e-04 - mse: 9.6443e-04 - val_loss: 0.0035 - val_mse: 0.0035\n",
            "Epoch 12/100\n",
            "12/12 [==============================] - 2s 172ms/step - loss: 9.4023e-04 - mse: 9.4023e-04 - val_loss: 0.0034 - val_mse: 0.0034\n",
            "Epoch 13/100\n",
            "12/12 [==============================] - 2s 181ms/step - loss: 9.2154e-04 - mse: 9.2154e-04 - val_loss: 0.0039 - val_mse: 0.0039\n",
            "Epoch 14/100\n",
            "12/12 [==============================] - 2s 177ms/step - loss: 9.1679e-04 - mse: 9.1679e-04 - val_loss: 0.0070 - val_mse: 0.0070\n",
            "Epoch 15/100\n",
            "12/12 [==============================] - 2s 183ms/step - loss: 9.7919e-04 - mse: 9.7919e-04 - val_loss: 0.0026 - val_mse: 0.0026\n",
            "Epoch 16/100\n",
            "12/12 [==============================] - 2s 171ms/step - loss: 0.0011 - mse: 0.0011 - val_loss: 0.0026 - val_mse: 0.0026\n",
            "Epoch 17/100\n",
            "12/12 [==============================] - 2s 177ms/step - loss: 8.7097e-04 - mse: 8.7097e-04 - val_loss: 0.0026 - val_mse: 0.0026\n",
            "Epoch 18/100\n",
            "12/12 [==============================] - 2s 181ms/step - loss: 8.6392e-04 - mse: 8.6392e-04 - val_loss: 0.0024 - val_mse: 0.0024\n",
            "Epoch 19/100\n",
            "12/12 [==============================] - 2s 172ms/step - loss: 8.5404e-04 - mse: 8.5404e-04 - val_loss: 0.0041 - val_mse: 0.0041\n",
            "Epoch 20/100\n",
            "12/12 [==============================] - 2s 171ms/step - loss: 7.3790e-04 - mse: 7.3790e-04 - val_loss: 0.0025 - val_mse: 0.0025\n",
            "Epoch 21/100\n",
            "12/12 [==============================] - 2s 174ms/step - loss: 7.0745e-04 - mse: 7.0745e-04 - val_loss: 0.0067 - val_mse: 0.0067\n",
            "Epoch 22/100\n",
            "12/12 [==============================] - 2s 173ms/step - loss: 7.8598e-04 - mse: 7.8598e-04 - val_loss: 0.0021 - val_mse: 0.0021\n",
            "Epoch 23/100\n",
            "12/12 [==============================] - 2s 174ms/step - loss: 8.4983e-04 - mse: 8.4983e-04 - val_loss: 0.0041 - val_mse: 0.0041\n",
            "Epoch 24/100\n",
            "12/12 [==============================] - 2s 181ms/step - loss: 6.6890e-04 - mse: 6.6890e-04 - val_loss: 0.0026 - val_mse: 0.0026\n",
            "Epoch 25/100\n",
            "12/12 [==============================] - 2s 184ms/step - loss: 6.7550e-04 - mse: 6.7550e-04 - val_loss: 0.0023 - val_mse: 0.0023\n",
            "Epoch 26/100\n",
            "12/12 [==============================] - 2s 174ms/step - loss: 6.4906e-04 - mse: 6.4906e-04 - val_loss: 0.0023 - val_mse: 0.0023\n",
            "Epoch 27/100\n",
            "12/12 [==============================] - 2s 185ms/step - loss: 6.1829e-04 - mse: 6.1829e-04 - val_loss: 0.0041 - val_mse: 0.0041\n",
            "Epoch 28/100\n",
            "12/12 [==============================] - 2s 178ms/step - loss: 6.4322e-04 - mse: 6.4322e-04 - val_loss: 0.0056 - val_mse: 0.0056\n",
            "Epoch 29/100\n",
            "12/12 [==============================] - 2s 173ms/step - loss: 5.7676e-04 - mse: 5.7676e-04 - val_loss: 0.0033 - val_mse: 0.0033\n",
            "Epoch 30/100\n",
            "12/12 [==============================] - 2s 176ms/step - loss: 5.9811e-04 - mse: 5.9811e-04 - val_loss: 0.0019 - val_mse: 0.0019\n",
            "Epoch 31/100\n",
            "12/12 [==============================] - 2s 188ms/step - loss: 7.2088e-04 - mse: 7.2088e-04 - val_loss: 0.0032 - val_mse: 0.0032\n",
            "Epoch 32/100\n",
            "12/12 [==============================] - 2s 184ms/step - loss: 5.5002e-04 - mse: 5.5002e-04 - val_loss: 0.0019 - val_mse: 0.0019\n",
            "Epoch 33/100\n",
            "12/12 [==============================] - 2s 188ms/step - loss: 5.6042e-04 - mse: 5.6042e-04 - val_loss: 0.0029 - val_mse: 0.0029\n",
            "Epoch 34/100\n",
            "12/12 [==============================] - 2s 186ms/step - loss: 6.5623e-04 - mse: 6.5623e-04 - val_loss: 0.0019 - val_mse: 0.0019\n",
            "Epoch 35/100\n",
            "12/12 [==============================] - 2s 192ms/step - loss: 7.0143e-04 - mse: 7.0143e-04 - val_loss: 0.0031 - val_mse: 0.0031\n",
            "Epoch 36/100\n",
            "12/12 [==============================] - 2s 172ms/step - loss: 5.9187e-04 - mse: 5.9187e-04 - val_loss: 0.0019 - val_mse: 0.0019\n",
            "Epoch 37/100\n",
            "12/12 [==============================] - 2s 174ms/step - loss: 5.6405e-04 - mse: 5.6405e-04 - val_loss: 0.0023 - val_mse: 0.0023\n",
            "Epoch 38/100\n",
            "12/12 [==============================] - 2s 192ms/step - loss: 5.1935e-04 - mse: 5.1935e-04 - val_loss: 0.0053 - val_mse: 0.0053\n",
            "Epoch 39/100\n",
            "12/12 [==============================] - 2s 185ms/step - loss: 6.3103e-04 - mse: 6.3103e-04 - val_loss: 0.0017 - val_mse: 0.0017\n",
            "Epoch 40/100\n",
            "12/12 [==============================] - 2s 186ms/step - loss: 6.9418e-04 - mse: 6.9418e-04 - val_loss: 0.0040 - val_mse: 0.0040\n",
            "Epoch 41/100\n",
            "12/12 [==============================] - 2s 172ms/step - loss: 5.0449e-04 - mse: 5.0449e-04 - val_loss: 0.0023 - val_mse: 0.0023\n",
            "Epoch 42/100\n",
            "12/12 [==============================] - 2s 177ms/step - loss: 4.9489e-04 - mse: 4.9489e-04 - val_loss: 0.0015 - val_mse: 0.0015\n",
            "Epoch 43/100\n",
            "12/12 [==============================] - 2s 173ms/step - loss: 4.8957e-04 - mse: 4.8957e-04 - val_loss: 0.0035 - val_mse: 0.0035\n",
            "Epoch 44/100\n",
            "12/12 [==============================] - 2s 174ms/step - loss: 5.1916e-04 - mse: 5.1916e-04 - val_loss: 0.0016 - val_mse: 0.0016\n",
            "Epoch 45/100\n",
            "12/12 [==============================] - 2s 182ms/step - loss: 4.6173e-04 - mse: 4.6173e-04 - val_loss: 0.0031 - val_mse: 0.0031\n",
            "Epoch 46/100\n",
            "12/12 [==============================] - 2s 171ms/step - loss: 5.2485e-04 - mse: 5.2485e-04 - val_loss: 0.0018 - val_mse: 0.0018\n",
            "Epoch 47/100\n",
            "12/12 [==============================] - 2s 172ms/step - loss: 4.3697e-04 - mse: 4.3697e-04 - val_loss: 0.0025 - val_mse: 0.0025\n",
            "Epoch 48/100\n",
            "12/12 [==============================] - 2s 180ms/step - loss: 4.6425e-04 - mse: 4.6425e-04 - val_loss: 0.0024 - val_mse: 0.0024\n",
            "Epoch 49/100\n",
            "12/12 [==============================] - 2s 186ms/step - loss: 4.6731e-04 - mse: 4.6731e-04 - val_loss: 0.0013 - val_mse: 0.0013\n",
            "Epoch 50/100\n",
            "12/12 [==============================] - 2s 185ms/step - loss: 7.5834e-04 - mse: 7.5834e-04 - val_loss: 0.0045 - val_mse: 0.0045\n",
            "Epoch 51/100\n",
            "12/12 [==============================] - 2s 171ms/step - loss: 6.5004e-04 - mse: 6.5004e-04 - val_loss: 0.0017 - val_mse: 0.0017\n",
            "Epoch 52/100\n",
            "12/12 [==============================] - 2s 185ms/step - loss: 7.2354e-04 - mse: 7.2354e-04 - val_loss: 0.0013 - val_mse: 0.0013\n",
            "Epoch 53/100\n",
            "12/12 [==============================] - 2s 201ms/step - loss: 4.4713e-04 - mse: 4.4713e-04 - val_loss: 0.0037 - val_mse: 0.0037\n",
            "Epoch 54/100\n",
            "12/12 [==============================] - 2s 190ms/step - loss: 5.1187e-04 - mse: 5.1187e-04 - val_loss: 0.0026 - val_mse: 0.0026\n",
            "Epoch 55/100\n",
            "12/12 [==============================] - 2s 173ms/step - loss: 4.5156e-04 - mse: 4.5156e-04 - val_loss: 0.0022 - val_mse: 0.0022\n",
            "Epoch 56/100\n",
            "12/12 [==============================] - 2s 182ms/step - loss: 4.1127e-04 - mse: 4.1127e-04 - val_loss: 0.0020 - val_mse: 0.0020\n",
            "Epoch 57/100\n",
            "12/12 [==============================] - 3s 223ms/step - loss: 3.9628e-04 - mse: 3.9628e-04 - val_loss: 0.0014 - val_mse: 0.0014\n",
            "Epoch 58/100\n",
            "12/12 [==============================] - 2s 193ms/step - loss: 3.9298e-04 - mse: 3.9298e-04 - val_loss: 0.0016 - val_mse: 0.0016\n",
            "Epoch 59/100\n",
            "12/12 [==============================] - 2s 185ms/step - loss: 4.2120e-04 - mse: 4.2120e-04 - val_loss: 0.0013 - val_mse: 0.0013\n",
            "Epoch 60/100\n",
            "12/12 [==============================] - 2s 172ms/step - loss: 3.8766e-04 - mse: 3.8766e-04 - val_loss: 0.0011 - val_mse: 0.0011\n",
            "Epoch 61/100\n",
            "12/12 [==============================] - 2s 170ms/step - loss: 3.9521e-04 - mse: 3.9521e-04 - val_loss: 0.0017 - val_mse: 0.0017\n",
            "Epoch 62/100\n",
            "12/12 [==============================] - 2s 198ms/step - loss: 3.9355e-04 - mse: 3.9355e-04 - val_loss: 0.0012 - val_mse: 0.0012\n",
            "Epoch 63/100\n",
            "12/12 [==============================] - 2s 192ms/step - loss: 4.7492e-04 - mse: 4.7492e-04 - val_loss: 0.0025 - val_mse: 0.0025\n",
            "Epoch 64/100\n",
            "12/12 [==============================] - 2s 175ms/step - loss: 3.9547e-04 - mse: 3.9547e-04 - val_loss: 0.0011 - val_mse: 0.0011\n",
            "Epoch 65/100\n",
            "12/12 [==============================] - 2s 196ms/step - loss: 3.6780e-04 - mse: 3.6780e-04 - val_loss: 0.0015 - val_mse: 0.0015\n",
            "Epoch 66/100\n",
            "12/12 [==============================] - 2s 190ms/step - loss: 3.8339e-04 - mse: 3.8339e-04 - val_loss: 0.0017 - val_mse: 0.0017\n",
            "Epoch 67/100\n",
            "12/12 [==============================] - 2s 174ms/step - loss: 3.6547e-04 - mse: 3.6547e-04 - val_loss: 0.0013 - val_mse: 0.0013\n",
            "Epoch 68/100\n",
            "12/12 [==============================] - 2s 174ms/step - loss: 3.4733e-04 - mse: 3.4733e-04 - val_loss: 0.0015 - val_mse: 0.0015\n",
            "Epoch 69/100\n",
            "12/12 [==============================] - 2s 177ms/step - loss: 3.5059e-04 - mse: 3.5059e-04 - val_loss: 0.0010 - val_mse: 0.0010\n",
            "Epoch 70/100\n",
            "12/12 [==============================] - 3s 233ms/step - loss: 3.4572e-04 - mse: 3.4572e-04 - val_loss: 0.0022 - val_mse: 0.0022\n",
            "Epoch 71/100\n",
            "12/12 [==============================] - 5s 400ms/step - loss: 3.3797e-04 - mse: 3.3797e-04 - val_loss: 0.0011 - val_mse: 0.0011\n",
            "Epoch 72/100\n",
            "12/12 [==============================] - 3s 244ms/step - loss: 3.8431e-04 - mse: 3.8431e-04 - val_loss: 0.0012 - val_mse: 0.0012\n",
            "Epoch 73/100\n",
            "12/12 [==============================] - 2s 212ms/step - loss: 4.1428e-04 - mse: 4.1428e-04 - val_loss: 0.0028 - val_mse: 0.0028\n",
            "Epoch 74/100\n",
            "12/12 [==============================] - 2s 183ms/step - loss: 4.0096e-04 - mse: 4.0096e-04 - val_loss: 9.5825e-04 - val_mse: 9.5825e-04\n",
            "Epoch 75/100\n",
            "12/12 [==============================] - 2s 195ms/step - loss: 3.2192e-04 - mse: 3.2192e-04 - val_loss: 0.0013 - val_mse: 0.0013\n",
            "Epoch 76/100\n",
            "12/12 [==============================] - 2s 185ms/step - loss: 3.1908e-04 - mse: 3.1908e-04 - val_loss: 9.0699e-04 - val_mse: 9.0699e-04\n",
            "Epoch 77/100\n",
            "12/12 [==============================] - 2s 179ms/step - loss: 3.5581e-04 - mse: 3.5581e-04 - val_loss: 0.0019 - val_mse: 0.0019\n",
            "Epoch 78/100\n",
            "12/12 [==============================] - 2s 185ms/step - loss: 3.8753e-04 - mse: 3.8753e-04 - val_loss: 0.0013 - val_mse: 0.0013\n",
            "Epoch 79/100\n",
            "12/12 [==============================] - 2s 198ms/step - loss: 3.6221e-04 - mse: 3.6221e-04 - val_loss: 9.5738e-04 - val_mse: 9.5738e-04\n",
            "Epoch 80/100\n",
            "12/12 [==============================] - 3s 255ms/step - loss: 5.5984e-04 - mse: 5.5984e-04 - val_loss: 0.0019 - val_mse: 0.0019\n",
            "Epoch 81/100\n",
            "12/12 [==============================] - 2s 188ms/step - loss: 3.0976e-04 - mse: 3.0976e-04 - val_loss: 0.0011 - val_mse: 0.0011\n",
            "Epoch 82/100\n",
            "12/12 [==============================] - 2s 185ms/step - loss: 3.1970e-04 - mse: 3.1970e-04 - val_loss: 0.0011 - val_mse: 0.0011\n",
            "Epoch 83/100\n",
            "12/12 [==============================] - 2s 179ms/step - loss: 2.9839e-04 - mse: 2.9839e-04 - val_loss: 0.0016 - val_mse: 0.0016\n",
            "Epoch 84/100\n",
            "12/12 [==============================] - 2s 185ms/step - loss: 3.1145e-04 - mse: 3.1145e-04 - val_loss: 0.0021 - val_mse: 0.0021\n",
            "Epoch 85/100\n",
            "12/12 [==============================] - 2s 175ms/step - loss: 2.9182e-04 - mse: 2.9182e-04 - val_loss: 8.2054e-04 - val_mse: 8.2054e-04\n",
            "Epoch 86/100\n",
            "12/12 [==============================] - 2s 180ms/step - loss: 3.9834e-04 - mse: 3.9834e-04 - val_loss: 0.0033 - val_mse: 0.0033\n",
            "Epoch 87/100\n",
            "12/12 [==============================] - 2s 186ms/step - loss: 4.0670e-04 - mse: 4.0670e-04 - val_loss: 9.8459e-04 - val_mse: 9.8459e-04\n",
            "Epoch 88/100\n",
            "12/12 [==============================] - 2s 175ms/step - loss: 4.0375e-04 - mse: 4.0375e-04 - val_loss: 0.0030 - val_mse: 0.0030\n",
            "Epoch 89/100\n",
            "12/12 [==============================] - 2s 174ms/step - loss: 3.0713e-04 - mse: 3.0713e-04 - val_loss: 7.9609e-04 - val_mse: 7.9609e-04\n",
            "Epoch 90/100\n",
            "12/12 [==============================] - 2s 195ms/step - loss: 2.8310e-04 - mse: 2.8310e-04 - val_loss: 0.0015 - val_mse: 0.0015\n",
            "Epoch 91/100\n",
            "12/12 [==============================] - 2s 192ms/step - loss: 2.8437e-04 - mse: 2.8437e-04 - val_loss: 0.0015 - val_mse: 0.0015\n",
            "Epoch 92/100\n",
            "12/12 [==============================] - 2s 179ms/step - loss: 2.7365e-04 - mse: 2.7365e-04 - val_loss: 0.0010 - val_mse: 0.0010\n",
            "Epoch 93/100\n",
            "12/12 [==============================] - 2s 190ms/step - loss: 2.8587e-04 - mse: 2.8587e-04 - val_loss: 0.0023 - val_mse: 0.0023\n",
            "Epoch 94/100\n",
            "12/12 [==============================] - 2s 182ms/step - loss: 5.4191e-04 - mse: 5.4191e-04 - val_loss: 0.0010 - val_mse: 0.0010\n",
            "Epoch 95/100\n",
            "12/12 [==============================] - 2s 185ms/step - loss: 4.8977e-04 - mse: 4.8977e-04 - val_loss: 0.0023 - val_mse: 0.0023\n",
            "Epoch 96/100\n",
            "12/12 [==============================] - 2s 186ms/step - loss: 3.3506e-04 - mse: 3.3506e-04 - val_loss: 0.0010 - val_mse: 0.0010\n",
            "Epoch 97/100\n",
            "12/12 [==============================] - 2s 180ms/step - loss: 4.1218e-04 - mse: 4.1218e-04 - val_loss: 0.0025 - val_mse: 0.0025\n",
            "Epoch 98/100\n",
            "12/12 [==============================] - 2s 182ms/step - loss: 2.8915e-04 - mse: 2.8915e-04 - val_loss: 9.1199e-04 - val_mse: 9.1199e-04\n",
            "Epoch 99/100\n",
            "12/12 [==============================] - 2s 183ms/step - loss: 3.1228e-04 - mse: 3.1228e-04 - val_loss: 0.0018 - val_mse: 0.0018\n",
            "Epoch 100/100\n",
            "12/12 [==============================] - 2s 180ms/step - loss: 4.2142e-04 - mse: 4.2142e-04 - val_loss: 8.2812e-04 - val_mse: 8.2812e-04\n"
          ]
        },
        {
          "output_type": "execute_result",
          "data": {
            "text/plain": [
              "<keras.callbacks.History at 0x7f2cd33be820>"
            ]
          },
          "metadata": {},
          "execution_count": 25
        }
      ],
      "source": [
        "model.fit(X_train,y_train,validation_data=(X_test,ytest),epochs=100,batch_size=64,verbose=1)"
      ]
    },
    {
      "cell_type": "code",
      "execution_count": null,
      "metadata": {
        "id": "I1sGOK6UTvHS"
      },
      "outputs": [],
      "source": [
        "import tensorflow as tf\n",
        "# from sklearn.metrics import accuracy_score"
      ]
    },
    {
      "cell_type": "code",
      "execution_count": null,
      "metadata": {
        "id": "YDtruVmNTzkB",
        "colab": {
          "base_uri": "https://localhost:8080/"
        },
        "outputId": "4fb20efb-9448-4d34-b555-7187debce04a"
      },
      "outputs": [
        {
          "output_type": "stream",
          "name": "stdout",
          "text": [
            "23/23 [==============================] - 2s 34ms/step\n",
            "11/11 [==============================] - 0s 35ms/step\n"
          ]
        }
      ],
      "source": [
        "### Lets Do the prediction and check performance metrics\n",
        "train_predict=model.predict(X_train)\n",
        "test_predict=model.predict(X_test)"
      ]
    },
    {
      "cell_type": "code",
      "source": [
        "# print(accuracy_score(test_predict,ytest))"
      ],
      "metadata": {
        "id": "1nBgvhX_Yq1s"
      },
      "execution_count": null,
      "outputs": []
    },
    {
      "cell_type": "code",
      "execution_count": null,
      "metadata": {
        "id": "I2zVcquaT3Rr"
      },
      "outputs": [],
      "source": [
        "##Transformback to original form\n",
        "train_predict=scaler.inverse_transform(train_predict)\n",
        "test_predict=scaler.inverse_transform(test_predict)"
      ]
    },
    {
      "cell_type": "code",
      "execution_count": null,
      "metadata": {
        "id": "Tmpds-81e6iE",
        "colab": {
          "base_uri": "https://localhost:8080/"
        },
        "outputId": "842a1115-fc80-466b-c1d3-ceec6245a375"
      },
      "outputs": [
        {
          "output_type": "stream",
          "name": "stdout",
          "text": [
            "11/11 [==============================] - 0s 33ms/step - loss: 8.2812e-04 - mse: 8.2812e-04\n",
            "[0.0008281216723844409, 0.0008281216723844409]\n"
          ]
        }
      ],
      "source": [
        "print(model.evaluate(X_test,ytest))\n"
      ]
    },
    {
      "cell_type": "code",
      "execution_count": null,
      "metadata": {
        "id": "sd82QkfNT55a",
        "colab": {
          "base_uri": "https://localhost:8080/"
        },
        "outputId": "80b7a3b2-c115-4428-de45-9425a1fb7866"
      },
      "outputs": [
        {
          "output_type": "execute_result",
          "data": {
            "text/plain": [
              "80.87857861062518"
            ]
          },
          "metadata": {},
          "execution_count": 31
        }
      ],
      "source": [
        "### Calculate RMSE performance metrics\n",
        "import math\n",
        "from sklearn.metrics import mean_squared_error\n",
        "math.sqrt(mean_squared_error(y_train,train_predict))"
      ]
    },
    {
      "cell_type": "code",
      "execution_count": null,
      "metadata": {
        "id": "oFmqi_PrT8P6",
        "colab": {
          "base_uri": "https://localhost:8080/"
        },
        "outputId": "dc3a4881-0024-4dc1-af93-43d71eb03a8b"
      },
      "outputs": [
        {
          "output_type": "execute_result",
          "data": {
            "text/plain": [
              "151.9600264905017"
            ]
          },
          "metadata": {},
          "execution_count": 32
        }
      ],
      "source": [
        "### Test Data RMSE\n",
        "math.sqrt(mean_squared_error(ytest,test_predict))"
      ]
    },
    {
      "cell_type": "code",
      "execution_count": null,
      "metadata": {
        "id": "0wEbOQCeT_h6",
        "colab": {
          "base_uri": "https://localhost:8080/",
          "height": 265
        },
        "outputId": "5a51a998-4c4f-44a6-942f-5e0be24d84fb"
      },
      "outputs": [
        {
          "output_type": "display_data",
          "data": {
            "text/plain": [
              "<Figure size 432x288 with 1 Axes>"
            ],
            "image/png": "[encoded data removed]"
          },
          "metadata": {
            "needs_background": "light"
          }
        }
      ],
      "source": [
        "### Plotting \n",
        "# shift train predictions for plotting\n",
        "look_back=100\n",
        "trainPredictPlot = numpy.empty_like(df1)\n",
        "trainPredictPlot[:, :] = np.nan\n",
        "trainPredictPlot[look_back:len(train_predict)+look_back, :] = train_predict\n",
        "# shift test predictions for plotting\n",
        "testPredictPlot = numpy.empty_like(df1)\n",
        "testPredictPlot[:, :] = numpy.nan\n",
        "testPredictPlot[len(train_predict)+(look_back*2)+1:len(df1)-1, :] = test_predict\n",
        "# plot baseline and predictions\n",
        "plt.plot(scaler.inverse_transform(df1))\n",
        "plt.plot(trainPredictPlot)\n",
        "plt.plot(testPredictPlot)\n",
        "plt.show()"
      ]
    },
    {
      "cell_type": "code",
      "execution_count": null,
      "metadata": {
        "id": "JCoWIsHOUDah",
        "colab": {
          "base_uri": "https://localhost:8080/"
        },
        "outputId": "637a9120-86d1-43a1-e418-47ba9e440fd8"
      },
      "outputs": [
        {
          "output_type": "execute_result",
          "data": {
            "text/plain": [
              "441"
            ]
          },
          "metadata": {},
          "execution_count": 34
        }
      ],
      "source": [
        "len(test_data)\n",
        "# print(test_data)"
      ]
    },
    {
      "cell_type": "code",
      "execution_count": null,
      "metadata": {
        "id": "FTNm_LZcUFmh",
        "colab": {
          "base_uri": "https://localhost:8080/"
        },
        "outputId": "8d878ba6-123f-4672-a33b-df3646fca1bb"
      },
      "outputs": [
        {
          "output_type": "execute_result",
          "data": {
            "text/plain": [
              "(1, 100)"
            ]
          },
          "metadata": {},
          "execution_count": 35
        }
      ],
      "source": [
        "x_input=test_data[341:].reshape(1,-1)\n",
        "x_input.shape"
      ]
    },
    {
      "cell_type": "code",
      "execution_count": null,
      "metadata": {
        "id": "EXmNFZ8XdEcZ",
        "colab": {
          "base_uri": "https://localhost:8080/"
        },
        "outputId": "6b847c9a-afe5-4d1e-b119-d5c518a1c2c7"
      },
      "outputs": [
        {
          "output_type": "execute_result",
          "data": {
            "text/plain": [
              "1"
            ]
          },
          "metadata": {},
          "execution_count": 36
        }
      ],
      "source": [
        "len(x_input)"
      ]
    },
    {
      "cell_type": "code",
      "execution_count": null,
      "metadata": {
        "id": "fMXrhNvwUHjU",
        "colab": {
          "base_uri": "https://localhost:8080/"
        },
        "outputId": "4a81cb73-b3c6-41c4-81b0-2784f55aae08"
      },
      "outputs": [
        {
          "output_type": "stream",
          "name": "stdout",
          "text": [
            "100\n"
          ]
        }
      ],
      "source": [
        "temp_input=list(x_input)\n",
        "temp_input=temp_input[0].tolist()\n",
        "print(len(temp_input))"
      ]
    },
    {
      "cell_type": "code",
      "execution_count": null,
      "metadata": {
        "id": "KbaFxhgMUNzU",
        "colab": {
          "base_uri": "https://localhost:8080/"
        },
        "outputId": "c57c806c-1ff3-4815-89c6-de5735180f83"
      },
      "outputs": [
        {
          "output_type": "stream",
          "name": "stdout",
          "text": [
            "[0.75238407]\n",
            "101\n",
            "1 day input [0.82776604 0.81755472 0.83736468 0.8786184  0.81333404 0.82334113\n",
            " 0.80332695 0.79195835 0.81769087 0.83416513 0.81251714 0.80584574\n",
            " 0.79012031 0.79243488 0.79917435 0.78610386 0.73600033 0.70686404\n",
            " 0.7357961  0.76064364 0.76268591 0.75608259 0.7197303  0.72197679\n",
            " 0.71217392 0.70781709 0.73947218 0.70808939 0.7355238  0.74464591\n",
            " 0.74539474 0.74219519 0.76860847 0.78344892 0.80312272 0.78276816\n",
            " 0.75179383 0.82626838 0.80993027 0.79161797 0.75335957 0.71149317\n",
            " 0.70965513 0.71333731 0.71729225 0.68572093 0.76754725 0.78684462\n",
            " 0.77716184 0.78916304 0.78063946 0.79379986 0.79768661 0.77532075\n",
            " 0.79011768 0.79618646 0.77600264 0.74947727 0.72867975 0.77545713\n",
            " 0.77736641 0.77395698 0.76591072 0.74054456 0.72711141 0.73877166\n",
            " 0.73543042 0.75131836 0.75800085 0.74259022 0.69683567 0.68326614\n",
            " 0.66867378 0.66819646 0.68967587 0.66771914 0.66633287 0.65383858\n",
            " 0.62659693 0.65097104 0.65315583 0.61997427 0.62878172 0.6196329\n",
            " 0.65103931 0.65465788 0.65861781 0.67746166 0.67691546 0.68613256\n",
            " 0.69418899 0.68920493 0.68961457 0.70736602 0.72948706 0.73918208\n",
            " 0.73460767 0.74894538 0.76239552 0.75238407]\n",
            "1 day output [[0.7552986]]\n",
            "2 day input [0.81755472 0.83736468 0.8786184  0.81333404 0.82334113 0.80332695\n",
            " 0.79195835 0.81769087 0.83416513 0.81251714 0.80584574 0.79012031\n",
            " 0.79243488 0.79917435 0.78610386 0.73600033 0.70686404 0.7357961\n",
            " 0.76064364 0.76268591 0.75608259 0.7197303  0.72197679 0.71217392\n",
            " 0.70781709 0.73947218 0.70808939 0.7355238  0.74464591 0.74539474\n",
            " 0.74219519 0.76860847 0.78344892 0.80312272 0.78276816 0.75179383\n",
            " 0.82626838 0.80993027 0.79161797 0.75335957 0.71149317 0.70965513\n",
            " 0.71333731 0.71729225 0.68572093 0.76754725 0.78684462 0.77716184\n",
            " 0.78916304 0.78063946 0.79379986 0.79768661 0.77532075 0.79011768\n",
            " 0.79618646 0.77600264 0.74947727 0.72867975 0.77545713 0.77736641\n",
            " 0.77395698 0.76591072 0.74054456 0.72711141 0.73877166 0.73543042\n",
            " 0.75131836 0.75800085 0.74259022 0.69683567 0.68326614 0.66867378\n",
            " 0.66819646 0.68967587 0.66771914 0.66633287 0.65383858 0.62659693\n",
            " 0.65097104 0.65315583 0.61997427 0.62878172 0.6196329  0.65103931\n",
            " 0.65465788 0.65861781 0.67746166 0.67691546 0.68613256 0.69418899\n",
            " 0.68920493 0.68961457 0.70736602 0.72948706 0.73918208 0.73460767\n",
            " 0.74894538 0.76239552 0.75238407 0.75529861]\n",
            "2 day output [[0.7553029]]\n",
            "3 day input [0.83736468 0.8786184  0.81333404 0.82334113 0.80332695 0.79195835\n",
            " 0.81769087 0.83416513 0.81251714 0.80584574 0.79012031 0.79243488\n",
            " 0.79917435 0.78610386 0.73600033 0.70686404 0.7357961  0.76064364\n",
            " 0.76268591 0.75608259 0.7197303  0.72197679 0.71217392 0.70781709\n",
            " 0.73947218 0.70808939 0.7355238  0.74464591 0.74539474 0.74219519\n",
            " 0.76860847 0.78344892 0.80312272 0.78276816 0.75179383 0.82626838\n",
            " 0.80993027 0.79161797 0.75335957 0.71149317 0.70965513 0.71333731\n",
            " 0.71729225 0.68572093 0.76754725 0.78684462 0.77716184 0.78916304\n",
            " 0.78063946 0.79379986 0.79768661 0.77532075 0.79011768 0.79618646\n",
            " 0.77600264 0.74947727 0.72867975 0.77545713 0.77736641 0.77395698\n",
            " 0.76591072 0.74054456 0.72711141 0.73877166 0.73543042 0.75131836\n",
            " 0.75800085 0.74259022 0.69683567 0.68326614 0.66867378 0.66819646\n",
            " 0.68967587 0.66771914 0.66633287 0.65383858 0.62659693 0.65097104\n",
            " 0.65315583 0.61997427 0.62878172 0.6196329  0.65103931 0.65465788\n",
            " 0.65861781 0.67746166 0.67691546 0.68613256 0.69418899 0.68920493\n",
            " 0.68961457 0.70736602 0.72948706 0.73918208 0.73460767 0.74894538\n",
            " 0.76239552 0.75238407 0.75529861 0.75530291]\n",
            "3 day output [[0.7542895]]\n",
            "4 day input [0.8786184  0.81333404 0.82334113 0.80332695 0.79195835 0.81769087\n",
            " 0.83416513 0.81251714 0.80584574 0.79012031 0.79243488 0.79917435\n",
            " 0.78610386 0.73600033 0.70686404 0.7357961  0.76064364 0.76268591\n",
            " 0.75608259 0.7197303  0.72197679 0.71217392 0.70781709 0.73947218\n",
            " 0.70808939 0.7355238  0.74464591 0.74539474 0.74219519 0.76860847\n",
            " 0.78344892 0.80312272 0.78276816 0.75179383 0.82626838 0.80993027\n",
            " 0.79161797 0.75335957 0.71149317 0.70965513 0.71333731 0.71729225\n",
            " 0.68572093 0.76754725 0.78684462 0.77716184 0.78916304 0.78063946\n",
            " 0.79379986 0.79768661 0.77532075 0.79011768 0.79618646 0.77600264\n",
            " 0.74947727 0.72867975 0.77545713 0.77736641 0.77395698 0.76591072\n",
            " 0.74054456 0.72711141 0.73877166 0.73543042 0.75131836 0.75800085\n",
            " 0.74259022 0.69683567 0.68326614 0.66867378 0.66819646 0.68967587\n",
            " 0.66771914 0.66633287 0.65383858 0.62659693 0.65097104 0.65315583\n",
            " 0.61997427 0.62878172 0.6196329  0.65103931 0.65465788 0.65861781\n",
            " 0.67746166 0.67691546 0.68613256 0.69418899 0.68920493 0.68961457\n",
            " 0.70736602 0.72948706 0.73918208 0.73460767 0.74894538 0.76239552\n",
            " 0.75238407 0.75529861 0.75530291 0.75428951]\n",
            "4 day output [[0.7530474]]\n",
            "5 day input [0.81333404 0.82334113 0.80332695 0.79195835 0.81769087 0.83416513\n",
            " 0.81251714 0.80584574 0.79012031 0.79243488 0.79917435 0.78610386\n",
            " 0.73600033 0.70686404 0.7357961  0.76064364 0.76268591 0.75608259\n",
            " 0.7197303  0.72197679 0.71217392 0.70781709 0.73947218 0.70808939\n",
            " 0.7355238  0.74464591 0.74539474 0.74219519 0.76860847 0.78344892\n",
            " 0.80312272 0.78276816 0.75179383 0.82626838 0.80993027 0.79161797\n",
            " 0.75335957 0.71149317 0.70965513 0.71333731 0.71729225 0.68572093\n",
            " 0.76754725 0.78684462 0.77716184 0.78916304 0.78063946 0.79379986\n",
            " 0.79768661 0.77532075 0.79011768 0.79618646 0.77600264 0.74947727\n",
            " 0.72867975 0.77545713 0.77736641 0.77395698 0.76591072 0.74054456\n",
            " 0.72711141 0.73877166 0.73543042 0.75131836 0.75800085 0.74259022\n",
            " 0.69683567 0.68326614 0.66867378 0.66819646 0.68967587 0.66771914\n",
            " 0.66633287 0.65383858 0.62659693 0.65097104 0.65315583 0.61997427\n",
            " 0.62878172 0.6196329  0.65103931 0.65465788 0.65861781 0.67746166\n",
            " 0.67691546 0.68613256 0.69418899 0.68920493 0.68961457 0.70736602\n",
            " 0.72948706 0.73918208 0.73460767 0.74894538 0.76239552 0.75238407\n",
            " 0.75529861 0.75530291 0.75428951 0.75304741]\n",
            "5 day output [[0.7519097]]\n",
            "6 day input [0.82334113 0.80332695 0.79195835 0.81769087 0.83416513 0.81251714\n",
            " 0.80584574 0.79012031 0.79243488 0.79917435 0.78610386 0.73600033\n",
            " 0.70686404 0.7357961  0.76064364 0.76268591 0.75608259 0.7197303\n",
            " 0.72197679 0.71217392 0.70781709 0.73947218 0.70808939 0.7355238\n",
            " 0.74464591 0.74539474 0.74219519 0.76860847 0.78344892 0.80312272\n",
            " 0.78276816 0.75179383 0.82626838 0.80993027 0.79161797 0.75335957\n",
            " 0.71149317 0.70965513 0.71333731 0.71729225 0.68572093 0.76754725\n",
            " 0.78684462 0.77716184 0.78916304 0.78063946 0.79379986 0.79768661\n",
            " 0.77532075 0.79011768 0.79618646 0.77600264 0.74947727 0.72867975\n",
            " 0.77545713 0.77736641 0.77395698 0.76591072 0.74054456 0.72711141\n",
            " 0.73877166 0.73543042 0.75131836 0.75800085 0.74259022 0.69683567\n",
            " 0.68326614 0.66867378 0.66819646 0.68967587 0.66771914 0.66633287\n",
            " 0.65383858 0.62659693 0.65097104 0.65315583 0.61997427 0.62878172\n",
            " 0.6196329  0.65103931 0.65465788 0.65861781 0.67746166 0.67691546\n",
            " 0.68613256 0.69418899 0.68920493 0.68961457 0.70736602 0.72948706\n",
            " 0.73918208 0.73460767 0.74894538 0.76239552 0.75238407 0.75529861\n",
            " 0.75530291 0.75428951 0.75304741 0.75190967]\n",
            "6 day output [[0.7510374]]\n",
            "7 day input [0.80332695 0.79195835 0.81769087 0.83416513 0.81251714 0.80584574\n",
            " 0.79012031 0.79243488 0.79917435 0.78610386 0.73600033 0.70686404\n",
            " 0.7357961  0.76064364 0.76268591 0.75608259 0.7197303  0.72197679\n",
            " 0.71217392 0.70781709 0.73947218 0.70808939 0.7355238  0.74464591\n",
            " 0.74539474 0.74219519 0.76860847 0.78344892 0.80312272 0.78276816\n",
            " 0.75179383 0.82626838 0.80993027 0.79161797 0.75335957 0.71149317\n",
            " 0.70965513 0.71333731 0.71729225 0.68572093 0.76754725 0.78684462\n",
            " 0.77716184 0.78916304 0.78063946 0.79379986 0.79768661 0.77532075\n",
            " 0.79011768 0.79618646 0.77600264 0.74947727 0.72867975 0.77545713\n",
            " 0.77736641 0.77395698 0.76591072 0.74054456 0.72711141 0.73877166\n",
            " 0.73543042 0.75131836 0.75800085 0.74259022 0.69683567 0.68326614\n",
            " 0.66867378 0.66819646 0.68967587 0.66771914 0.66633287 0.65383858\n",
            " 0.62659693 0.65097104 0.65315583 0.61997427 0.62878172 0.6196329\n",
            " 0.65103931 0.65465788 0.65861781 0.67746166 0.67691546 0.68613256\n",
            " 0.69418899 0.68920493 0.68961457 0.70736602 0.72948706 0.73918208\n",
            " 0.73460767 0.74894538 0.76239552 0.75238407 0.75529861 0.75530291\n",
            " 0.75428951 0.75304741 0.75190967 0.75103742]\n",
            "7 day output [[0.7504964]]\n",
            "8 day input [0.79195835 0.81769087 0.83416513 0.81251714 0.80584574 0.79012031\n",
            " 0.79243488 0.79917435 0.78610386 0.73600033 0.70686404 0.7357961\n",
            " 0.76064364 0.76268591 0.75608259 0.7197303  0.72197679 0.71217392\n",
            " 0.70781709 0.73947218 0.70808939 0.7355238  0.74464591 0.74539474\n",
            " 0.74219519 0.76860847 0.78344892 0.80312272 0.78276816 0.75179383\n",
            " 0.82626838 0.80993027 0.79161797 0.75335957 0.71149317 0.70965513\n",
            " 0.71333731 0.71729225 0.68572093 0.76754725 0.78684462 0.77716184\n",
            " 0.78916304 0.78063946 0.79379986 0.79768661 0.77532075 0.79011768\n",
            " 0.79618646 0.77600264 0.74947727 0.72867975 0.77545713 0.77736641\n",
            " 0.77395698 0.76591072 0.74054456 0.72711141 0.73877166 0.73543042\n",
            " 0.75131836 0.75800085 0.74259022 0.69683567 0.68326614 0.66867378\n",
            " 0.66819646 0.68967587 0.66771914 0.66633287 0.65383858 0.62659693\n",
            " 0.65097104 0.65315583 0.61997427 0.62878172 0.6196329  0.65103931\n",
            " 0.65465788 0.65861781 0.67746166 0.67691546 0.68613256 0.69418899\n",
            " 0.68920493 0.68961457 0.70736602 0.72948706 0.73918208 0.73460767\n",
            " 0.74894538 0.76239552 0.75238407 0.75529861 0.75530291 0.75428951\n",
            " 0.75304741 0.75190967 0.75103742 0.75049639]\n",
            "8 day output [[0.75028276]]\n",
            "9 day input [0.81769087 0.83416513 0.81251714 0.80584574 0.79012031 0.79243488\n",
            " 0.79917435 0.78610386 0.73600033 0.70686404 0.7357961  0.76064364\n",
            " 0.76268591 0.75608259 0.7197303  0.72197679 0.71217392 0.70781709\n",
            " 0.73947218 0.70808939 0.7355238  0.74464591 0.74539474 0.74219519\n",
            " 0.76860847 0.78344892 0.80312272 0.78276816 0.75179383 0.82626838\n",
            " 0.80993027 0.79161797 0.75335957 0.71149317 0.70965513 0.71333731\n",
            " 0.71729225 0.68572093 0.76754725 0.78684462 0.77716184 0.78916304\n",
            " 0.78063946 0.79379986 0.79768661 0.77532075 0.79011768 0.79618646\n",
            " 0.77600264 0.74947727 0.72867975 0.77545713 0.77736641 0.77395698\n",
            " 0.76591072 0.74054456 0.72711141 0.73877166 0.73543042 0.75131836\n",
            " 0.75800085 0.74259022 0.69683567 0.68326614 0.66867378 0.66819646\n",
            " 0.68967587 0.66771914 0.66633287 0.65383858 0.62659693 0.65097104\n",
            " 0.65315583 0.61997427 0.62878172 0.6196329  0.65103931 0.65465788\n",
            " 0.65861781 0.67746166 0.67691546 0.68613256 0.69418899 0.68920493\n",
            " 0.68961457 0.70736602 0.72948706 0.73918208 0.73460767 0.74894538\n",
            " 0.76239552 0.75238407 0.75529861 0.75530291 0.75428951 0.75304741\n",
            " 0.75190967 0.75103742 0.75049639 0.75028276]\n",
            "9 day output [[0.7503406]]\n",
            "10 day input [0.83416513 0.81251714 0.80584574 0.79012031 0.79243488 0.79917435\n",
            " 0.78610386 0.73600033 0.70686404 0.7357961  0.76064364 0.76268591\n",
            " 0.75608259 0.7197303  0.72197679 0.71217392 0.70781709 0.73947218\n",
            " 0.70808939 0.7355238  0.74464591 0.74539474 0.74219519 0.76860847\n",
            " 0.78344892 0.80312272 0.78276816 0.75179383 0.82626838 0.80993027\n",
            " 0.79161797 0.75335957 0.71149317 0.70965513 0.71333731 0.71729225\n",
            " 0.68572093 0.76754725 0.78684462 0.77716184 0.78916304 0.78063946\n",
            " 0.79379986 0.79768661 0.77532075 0.79011768 0.79618646 0.77600264\n",
            " 0.74947727 0.72867975 0.77545713 0.77736641 0.77395698 0.76591072\n",
            " 0.74054456 0.72711141 0.73877166 0.73543042 0.75131836 0.75800085\n",
            " 0.74259022 0.69683567 0.68326614 0.66867378 0.66819646 0.68967587\n",
            " 0.66771914 0.66633287 0.65383858 0.62659693 0.65097104 0.65315583\n",
            " 0.61997427 0.62878172 0.6196329  0.65103931 0.65465788 0.65861781\n",
            " 0.67746166 0.67691546 0.68613256 0.69418899 0.68920493 0.68961457\n",
            " 0.70736602 0.72948706 0.73918208 0.73460767 0.74894538 0.76239552\n",
            " 0.75238407 0.75529861 0.75530291 0.75428951 0.75304741 0.75190967\n",
            " 0.75103742 0.75049639 0.75028276 0.75034058]\n",
            "10 day output [[0.7505857]]\n",
            "11 day input [0.81251714 0.80584574 0.79012031 0.79243488 0.79917435 0.78610386\n",
            " 0.73600033 0.70686404 0.7357961  0.76064364 0.76268591 0.75608259\n",
            " 0.7197303  0.72197679 0.71217392 0.70781709 0.73947218 0.70808939\n",
            " 0.7355238  0.74464591 0.74539474 0.74219519 0.76860847 0.78344892\n",
            " 0.80312272 0.78276816 0.75179383 0.82626838 0.80993027 0.79161797\n",
            " 0.75335957 0.71149317 0.70965513 0.71333731 0.71729225 0.68572093\n",
            " 0.76754725 0.78684462 0.77716184 0.78916304 0.78063946 0.79379986\n",
            " 0.79768661 0.77532075 0.79011768 0.79618646 0.77600264 0.74947727\n",
            " 0.72867975 0.77545713 0.77736641 0.77395698 0.76591072 0.74054456\n",
            " 0.72711141 0.73877166 0.73543042 0.75131836 0.75800085 0.74259022\n",
            " 0.69683567 0.68326614 0.66867378 0.66819646 0.68967587 0.66771914\n",
            " 0.66633287 0.65383858 0.62659693 0.65097104 0.65315583 0.61997427\n",
            " 0.62878172 0.6196329  0.65103931 0.65465788 0.65861781 0.67746166\n",
            " 0.67691546 0.68613256 0.69418899 0.68920493 0.68961457 0.70736602\n",
            " 0.72948706 0.73918208 0.73460767 0.74894538 0.76239552 0.75238407\n",
            " 0.75529861 0.75530291 0.75428951 0.75304741 0.75190967 0.75103742\n",
            " 0.75049639 0.75028276 0.75034058 0.75058568]\n",
            "11 day output [[0.7509239]]\n",
            "12 day input [0.80584574 0.79012031 0.79243488 0.79917435 0.78610386 0.73600033\n",
            " 0.70686404 0.7357961  0.76064364 0.76268591 0.75608259 0.7197303\n",
            " 0.72197679 0.71217392 0.70781709 0.73947218 0.70808939 0.7355238\n",
            " 0.74464591 0.74539474 0.74219519 0.76860847 0.78344892 0.80312272\n",
            " 0.78276816 0.75179383 0.82626838 0.80993027 0.79161797 0.75335957\n",
            " 0.71149317 0.70965513 0.71333731 0.71729225 0.68572093 0.76754725\n",
            " 0.78684462 0.77716184 0.78916304 0.78063946 0.79379986 0.79768661\n",
            " 0.77532075 0.79011768 0.79618646 0.77600264 0.74947727 0.72867975\n",
            " 0.77545713 0.77736641 0.77395698 0.76591072 0.74054456 0.72711141\n",
            " 0.73877166 0.73543042 0.75131836 0.75800085 0.74259022 0.69683567\n",
            " 0.68326614 0.66867378 0.66819646 0.68967587 0.66771914 0.66633287\n",
            " 0.65383858 0.62659693 0.65097104 0.65315583 0.61997427 0.62878172\n",
            " 0.6196329  0.65103931 0.65465788 0.65861781 0.67746166 0.67691546\n",
            " 0.68613256 0.69418899 0.68920493 0.68961457 0.70736602 0.72948706\n",
            " 0.73918208 0.73460767 0.74894538 0.76239552 0.75238407 0.75529861\n",
            " 0.75530291 0.75428951 0.75304741 0.75190967 0.75103742 0.75049639\n",
            " 0.75028276 0.75034058 0.75058568 0.75092387]\n",
            "12 day output [[0.7512675]]\n",
            "13 day input [0.79012031 0.79243488 0.79917435 0.78610386 0.73600033 0.70686404\n",
            " 0.7357961  0.76064364 0.76268591 0.75608259 0.7197303  0.72197679\n",
            " 0.71217392 0.70781709 0.73947218 0.70808939 0.7355238  0.74464591\n",
            " 0.74539474 0.74219519 0.76860847 0.78344892 0.80312272 0.78276816\n",
            " 0.75179383 0.82626838 0.80993027 0.79161797 0.75335957 0.71149317\n",
            " 0.70965513 0.71333731 0.71729225 0.68572093 0.76754725 0.78684462\n",
            " 0.77716184 0.78916304 0.78063946 0.79379986 0.79768661 0.77532075\n",
            " 0.79011768 0.79618646 0.77600264 0.74947727 0.72867975 0.77545713\n",
            " 0.77736641 0.77395698 0.76591072 0.74054456 0.72711141 0.73877166\n",
            " 0.73543042 0.75131836 0.75800085 0.74259022 0.69683567 0.68326614\n",
            " 0.66867378 0.66819646 0.68967587 0.66771914 0.66633287 0.65383858\n",
            " 0.62659693 0.65097104 0.65315583 0.61997427 0.62878172 0.6196329\n",
            " 0.65103931 0.65465788 0.65861781 0.67746166 0.67691546 0.68613256\n",
            " 0.69418899 0.68920493 0.68961457 0.70736602 0.72948706 0.73918208\n",
            " 0.73460767 0.74894538 0.76239552 0.75238407 0.75529861 0.75530291\n",
            " 0.75428951 0.75304741 0.75190967 0.75103742 0.75049639 0.75028276\n",
            " 0.75034058 0.75058568 0.75092387 0.75126749]\n",
            "13 day output [[0.75154614]]\n",
            "14 day input [0.79243488 0.79917435 0.78610386 0.73600033 0.70686404 0.7357961\n",
            " 0.76064364 0.76268591 0.75608259 0.7197303  0.72197679 0.71217392\n",
            " 0.70781709 0.73947218 0.70808939 0.7355238  0.74464591 0.74539474\n",
            " 0.74219519 0.76860847 0.78344892 0.80312272 0.78276816 0.75179383\n",
            " 0.82626838 0.80993027 0.79161797 0.75335957 0.71149317 0.70965513\n",
            " 0.71333731 0.71729225 0.68572093 0.76754725 0.78684462 0.77716184\n",
            " 0.78916304 0.78063946 0.79379986 0.79768661 0.77532075 0.79011768\n",
            " 0.79618646 0.77600264 0.74947727 0.72867975 0.77545713 0.77736641\n",
            " 0.77395698 0.76591072 0.74054456 0.72711141 0.73877166 0.73543042\n",
            " 0.75131836 0.75800085 0.74259022 0.69683567 0.68326614 0.66867378\n",
            " 0.66819646 0.68967587 0.66771914 0.66633287 0.65383858 0.62659693\n",
            " 0.65097104 0.65315583 0.61997427 0.62878172 0.6196329  0.65103931\n",
            " 0.65465788 0.65861781 0.67746166 0.67691546 0.68613256 0.69418899\n",
            " 0.68920493 0.68961457 0.70736602 0.72948706 0.73918208 0.73460767\n",
            " 0.74894538 0.76239552 0.75238407 0.75529861 0.75530291 0.75428951\n",
            " 0.75304741 0.75190967 0.75103742 0.75049639 0.75028276 0.75034058\n",
            " 0.75058568 0.75092387 0.75126749 0.75154614]\n",
            "14 day output [[0.75171334]]\n",
            "15 day input [0.79917435 0.78610386 0.73600033 0.70686404 0.7357961  0.76064364\n",
            " 0.76268591 0.75608259 0.7197303  0.72197679 0.71217392 0.70781709\n",
            " 0.73947218 0.70808939 0.7355238  0.74464591 0.74539474 0.74219519\n",
            " 0.76860847 0.78344892 0.80312272 0.78276816 0.75179383 0.82626838\n",
            " 0.80993027 0.79161797 0.75335957 0.71149317 0.70965513 0.71333731\n",
            " 0.71729225 0.68572093 0.76754725 0.78684462 0.77716184 0.78916304\n",
            " 0.78063946 0.79379986 0.79768661 0.77532075 0.79011768 0.79618646\n",
            " 0.77600264 0.74947727 0.72867975 0.77545713 0.77736641 0.77395698\n",
            " 0.76591072 0.74054456 0.72711141 0.73877166 0.73543042 0.75131836\n",
            " 0.75800085 0.74259022 0.69683567 0.68326614 0.66867378 0.66819646\n",
            " 0.68967587 0.66771914 0.66633287 0.65383858 0.62659693 0.65097104\n",
            " 0.65315583 0.61997427 0.62878172 0.6196329  0.65103931 0.65465788\n",
            " 0.65861781 0.67746166 0.67691546 0.68613256 0.69418899 0.68920493\n",
            " 0.68961457 0.70736602 0.72948706 0.73918208 0.73460767 0.74894538\n",
            " 0.76239552 0.75238407 0.75529861 0.75530291 0.75428951 0.75304741\n",
            " 0.75190967 0.75103742 0.75049639 0.75028276 0.75034058 0.75058568\n",
            " 0.75092387 0.75126749 0.75154614 0.75171334]\n",
            "15 day output [[0.7517471]]\n",
            "16 day input [0.78610386 0.73600033 0.70686404 0.7357961  0.76064364 0.76268591\n",
            " 0.75608259 0.7197303  0.72197679 0.71217392 0.70781709 0.73947218\n",
            " 0.70808939 0.7355238  0.74464591 0.74539474 0.74219519 0.76860847\n",
            " 0.78344892 0.80312272 0.78276816 0.75179383 0.82626838 0.80993027\n",
            " 0.79161797 0.75335957 0.71149317 0.70965513 0.71333731 0.71729225\n",
            " 0.68572093 0.76754725 0.78684462 0.77716184 0.78916304 0.78063946\n",
            " 0.79379986 0.79768661 0.77532075 0.79011768 0.79618646 0.77600264\n",
            " 0.74947727 0.72867975 0.77545713 0.77736641 0.77395698 0.76591072\n",
            " 0.74054456 0.72711141 0.73877166 0.73543042 0.75131836 0.75800085\n",
            " 0.74259022 0.69683567 0.68326614 0.66867378 0.66819646 0.68967587\n",
            " 0.66771914 0.66633287 0.65383858 0.62659693 0.65097104 0.65315583\n",
            " 0.61997427 0.62878172 0.6196329  0.65103931 0.65465788 0.65861781\n",
            " 0.67746166 0.67691546 0.68613256 0.69418899 0.68920493 0.68961457\n",
            " 0.70736602 0.72948706 0.73918208 0.73460767 0.74894538 0.76239552\n",
            " 0.75238407 0.75529861 0.75530291 0.75428951 0.75304741 0.75190967\n",
            " 0.75103742 0.75049639 0.75028276 0.75034058 0.75058568 0.75092387\n",
            " 0.75126749 0.75154614 0.75171334 0.75174707]\n",
            "16 day output [[0.7516495]]\n",
            "17 day input [0.73600033 0.70686404 0.7357961  0.76064364 0.76268591 0.75608259\n",
            " 0.7197303  0.72197679 0.71217392 0.70781709 0.73947218 0.70808939\n",
            " 0.7355238  0.74464591 0.74539474 0.74219519 0.76860847 0.78344892\n",
            " 0.80312272 0.78276816 0.75179383 0.82626838 0.80993027 0.79161797\n",
            " 0.75335957 0.71149317 0.70965513 0.71333731 0.71729225 0.68572093\n",
            " 0.76754725 0.78684462 0.77716184 0.78916304 0.78063946 0.79379986\n",
            " 0.79768661 0.77532075 0.79011768 0.79618646 0.77600264 0.74947727\n",
            " 0.72867975 0.77545713 0.77736641 0.77395698 0.76591072 0.74054456\n",
            " 0.72711141 0.73877166 0.73543042 0.75131836 0.75800085 0.74259022\n",
            " 0.69683567 0.68326614 0.66867378 0.66819646 0.68967587 0.66771914\n",
            " 0.66633287 0.65383858 0.62659693 0.65097104 0.65315583 0.61997427\n",
            " 0.62878172 0.6196329  0.65103931 0.65465788 0.65861781 0.67746166\n",
            " 0.67691546 0.68613256 0.69418899 0.68920493 0.68961457 0.70736602\n",
            " 0.72948706 0.73918208 0.73460767 0.74894538 0.76239552 0.75238407\n",
            " 0.75529861 0.75530291 0.75428951 0.75304741 0.75190967 0.75103742\n",
            " 0.75049639 0.75028276 0.75034058 0.75058568 0.75092387 0.75126749\n",
            " 0.75154614 0.75171334 0.75174707 0.7516495 ]\n",
            "17 day output [[0.7514407]]\n",
            "18 day input [0.70686404 0.7357961  0.76064364 0.76268591 0.75608259 0.7197303\n",
            " 0.72197679 0.71217392 0.70781709 0.73947218 0.70808939 0.7355238\n",
            " 0.74464591 0.74539474 0.74219519 0.76860847 0.78344892 0.80312272\n",
            " 0.78276816 0.75179383 0.82626838 0.80993027 0.79161797 0.75335957\n",
            " 0.71149317 0.70965513 0.71333731 0.71729225 0.68572093 0.76754725\n",
            " 0.78684462 0.77716184 0.78916304 0.78063946 0.79379986 0.79768661\n",
            " 0.77532075 0.79011768 0.79618646 0.77600264 0.74947727 0.72867975\n",
            " 0.77545713 0.77736641 0.77395698 0.76591072 0.74054456 0.72711141\n",
            " 0.73877166 0.73543042 0.75131836 0.75800085 0.74259022 0.69683567\n",
            " 0.68326614 0.66867378 0.66819646 0.68967587 0.66771914 0.66633287\n",
            " 0.65383858 0.62659693 0.65097104 0.65315583 0.61997427 0.62878172\n",
            " 0.6196329  0.65103931 0.65465788 0.65861781 0.67746166 0.67691546\n",
            " 0.68613256 0.69418899 0.68920493 0.68961457 0.70736602 0.72948706\n",
            " 0.73918208 0.73460767 0.74894538 0.76239552 0.75238407 0.75529861\n",
            " 0.75530291 0.75428951 0.75304741 0.75190967 0.75103742 0.75049639\n",
            " 0.75028276 0.75034058 0.75058568 0.75092387 0.75126749 0.75154614\n",
            " 0.75171334 0.75174707 0.7516495  0.7514407 ]\n",
            "18 day output [[0.7511533]]\n",
            "19 day input [0.7357961  0.76064364 0.76268591 0.75608259 0.7197303  0.72197679\n",
            " 0.71217392 0.70781709 0.73947218 0.70808939 0.7355238  0.74464591\n",
            " 0.74539474 0.74219519 0.76860847 0.78344892 0.80312272 0.78276816\n",
            " 0.75179383 0.82626838 0.80993027 0.79161797 0.75335957 0.71149317\n",
            " 0.70965513 0.71333731 0.71729225 0.68572093 0.76754725 0.78684462\n",
            " 0.77716184 0.78916304 0.78063946 0.79379986 0.79768661 0.77532075\n",
            " 0.79011768 0.79618646 0.77600264 0.74947727 0.72867975 0.77545713\n",
            " 0.77736641 0.77395698 0.76591072 0.74054456 0.72711141 0.73877166\n",
            " 0.73543042 0.75131836 0.75800085 0.74259022 0.69683567 0.68326614\n",
            " 0.66867378 0.66819646 0.68967587 0.66771914 0.66633287 0.65383858\n",
            " 0.62659693 0.65097104 0.65315583 0.61997427 0.62878172 0.6196329\n",
            " 0.65103931 0.65465788 0.65861781 0.67746166 0.67691546 0.68613256\n",
            " 0.69418899 0.68920493 0.68961457 0.70736602 0.72948706 0.73918208\n",
            " 0.73460767 0.74894538 0.76239552 0.75238407 0.75529861 0.75530291\n",
            " 0.75428951 0.75304741 0.75190967 0.75103742 0.75049639 0.75028276\n",
            " 0.75034058 0.75058568 0.75092387 0.75126749 0.75154614 0.75171334\n",
            " 0.75174707 0.7516495  0.7514407  0.75115329]\n",
            "19 day output [[0.7508254]]\n",
            "20 day input [0.76064364 0.76268591 0.75608259 0.7197303  0.72197679 0.71217392\n",
            " 0.70781709 0.73947218 0.70808939 0.7355238  0.74464591 0.74539474\n",
            " 0.74219519 0.76860847 0.78344892 0.80312272 0.78276816 0.75179383\n",
            " 0.82626838 0.80993027 0.79161797 0.75335957 0.71149317 0.70965513\n",
            " 0.71333731 0.71729225 0.68572093 0.76754725 0.78684462 0.77716184\n",
            " 0.78916304 0.78063946 0.79379986 0.79768661 0.77532075 0.79011768\n",
            " 0.79618646 0.77600264 0.74947727 0.72867975 0.77545713 0.77736641\n",
            " 0.77395698 0.76591072 0.74054456 0.72711141 0.73877166 0.73543042\n",
            " 0.75131836 0.75800085 0.74259022 0.69683567 0.68326614 0.66867378\n",
            " 0.66819646 0.68967587 0.66771914 0.66633287 0.65383858 0.62659693\n",
            " 0.65097104 0.65315583 0.61997427 0.62878172 0.6196329  0.65103931\n",
            " 0.65465788 0.65861781 0.67746166 0.67691546 0.68613256 0.69418899\n",
            " 0.68920493 0.68961457 0.70736602 0.72948706 0.73918208 0.73460767\n",
            " 0.74894538 0.76239552 0.75238407 0.75529861 0.75530291 0.75428951\n",
            " 0.75304741 0.75190967 0.75103742 0.75049639 0.75028276 0.75034058\n",
            " 0.75058568 0.75092387 0.75126749 0.75154614 0.75171334 0.75174707\n",
            " 0.7516495  0.7514407  0.75115329 0.75082541]\n",
            "20 day output [[0.75049704]]\n",
            "21 day input [0.76268591 0.75608259 0.7197303  0.72197679 0.71217392 0.70781709\n",
            " 0.73947218 0.70808939 0.7355238  0.74464591 0.74539474 0.74219519\n",
            " 0.76860847 0.78344892 0.80312272 0.78276816 0.75179383 0.82626838\n",
            " 0.80993027 0.79161797 0.75335957 0.71149317 0.70965513 0.71333731\n",
            " 0.71729225 0.68572093 0.76754725 0.78684462 0.77716184 0.78916304\n",
            " 0.78063946 0.79379986 0.79768661 0.77532075 0.79011768 0.79618646\n",
            " 0.77600264 0.74947727 0.72867975 0.77545713 0.77736641 0.77395698\n",
            " 0.76591072 0.74054456 0.72711141 0.73877166 0.73543042 0.75131836\n",
            " 0.75800085 0.74259022 0.69683567 0.68326614 0.66867378 0.66819646\n",
            " 0.68967587 0.66771914 0.66633287 0.65383858 0.62659693 0.65097104\n",
            " 0.65315583 0.61997427 0.62878172 0.6196329  0.65103931 0.65465788\n",
            " 0.65861781 0.67746166 0.67691546 0.68613256 0.69418899 0.68920493\n",
            " 0.68961457 0.70736602 0.72948706 0.73918208 0.73460767 0.74894538\n",
            " 0.76239552 0.75238407 0.75529861 0.75530291 0.75428951 0.75304741\n",
            " 0.75190967 0.75103742 0.75049639 0.75028276 0.75034058 0.75058568\n",
            " 0.75092387 0.75126749 0.75154614 0.75171334 0.75174707 0.7516495\n",
            " 0.7514407  0.75115329 0.75082541 0.75049704]\n",
            "21 day output [[0.75020295]]\n",
            "22 day input [0.75608259 0.7197303  0.72197679 0.71217392 0.70781709 0.73947218\n",
            " 0.70808939 0.7355238  0.74464591 0.74539474 0.74219519 0.76860847\n",
            " 0.78344892 0.80312272 0.78276816 0.75179383 0.82626838 0.80993027\n",
            " 0.79161797 0.75335957 0.71149317 0.70965513 0.71333731 0.71729225\n",
            " 0.68572093 0.76754725 0.78684462 0.77716184 0.78916304 0.78063946\n",
            " 0.79379986 0.79768661 0.77532075 0.79011768 0.79618646 0.77600264\n",
            " 0.74947727 0.72867975 0.77545713 0.77736641 0.77395698 0.76591072\n",
            " 0.74054456 0.72711141 0.73877166 0.73543042 0.75131836 0.75800085\n",
            " 0.74259022 0.69683567 0.68326614 0.66867378 0.66819646 0.68967587\n",
            " 0.66771914 0.66633287 0.65383858 0.62659693 0.65097104 0.65315583\n",
            " 0.61997427 0.62878172 0.6196329  0.65103931 0.65465788 0.65861781\n",
            " 0.67746166 0.67691546 0.68613256 0.69418899 0.68920493 0.68961457\n",
            " 0.70736602 0.72948706 0.73918208 0.73460767 0.74894538 0.76239552\n",
            " 0.75238407 0.75529861 0.75530291 0.75428951 0.75304741 0.75190967\n",
            " 0.75103742 0.75049639 0.75028276 0.75034058 0.75058568 0.75092387\n",
            " 0.75126749 0.75154614 0.75171334 0.75174707 0.7516495  0.7514407\n",
            " 0.75115329 0.75082541 0.75049704 0.75020295]\n",
            "22 day output [[0.7499711]]\n",
            "23 day input [0.7197303  0.72197679 0.71217392 0.70781709 0.73947218 0.70808939\n",
            " 0.7355238  0.74464591 0.74539474 0.74219519 0.76860847 0.78344892\n",
            " 0.80312272 0.78276816 0.75179383 0.82626838 0.80993027 0.79161797\n",
            " 0.75335957 0.71149317 0.70965513 0.71333731 0.71729225 0.68572093\n",
            " 0.76754725 0.78684462 0.77716184 0.78916304 0.78063946 0.79379986\n",
            " 0.79768661 0.77532075 0.79011768 0.79618646 0.77600264 0.74947727\n",
            " 0.72867975 0.77545713 0.77736641 0.77395698 0.76591072 0.74054456\n",
            " 0.72711141 0.73877166 0.73543042 0.75131836 0.75800085 0.74259022\n",
            " 0.69683567 0.68326614 0.66867378 0.66819646 0.68967587 0.66771914\n",
            " 0.66633287 0.65383858 0.62659693 0.65097104 0.65315583 0.61997427\n",
            " 0.62878172 0.6196329  0.65103931 0.65465788 0.65861781 0.67746166\n",
            " 0.67691546 0.68613256 0.69418899 0.68920493 0.68961457 0.70736602\n",
            " 0.72948706 0.73918208 0.73460767 0.74894538 0.76239552 0.75238407\n",
            " 0.75529861 0.75530291 0.75428951 0.75304741 0.75190967 0.75103742\n",
            " 0.75049639 0.75028276 0.75034058 0.75058568 0.75092387 0.75126749\n",
            " 0.75154614 0.75171334 0.75174707 0.7516495  0.7514407  0.75115329\n",
            " 0.75082541 0.75049704 0.75020295 0.74997109]\n",
            "23 day output [[0.7498204]]\n",
            "24 day input [0.72197679 0.71217392 0.70781709 0.73947218 0.70808939 0.7355238\n",
            " 0.74464591 0.74539474 0.74219519 0.76860847 0.78344892 0.80312272\n",
            " 0.78276816 0.75179383 0.82626838 0.80993027 0.79161797 0.75335957\n",
            " 0.71149317 0.70965513 0.71333731 0.71729225 0.68572093 0.76754725\n",
            " 0.78684462 0.77716184 0.78916304 0.78063946 0.79379986 0.79768661\n",
            " 0.77532075 0.79011768 0.79618646 0.77600264 0.74947727 0.72867975\n",
            " 0.77545713 0.77736641 0.77395698 0.76591072 0.74054456 0.72711141\n",
            " 0.73877166 0.73543042 0.75131836 0.75800085 0.74259022 0.69683567\n",
            " 0.68326614 0.66867378 0.66819646 0.68967587 0.66771914 0.66633287\n",
            " 0.65383858 0.62659693 0.65097104 0.65315583 0.61997427 0.62878172\n",
            " 0.6196329  0.65103931 0.65465788 0.65861781 0.67746166 0.67691546\n",
            " 0.68613256 0.69418899 0.68920493 0.68961457 0.70736602 0.72948706\n",
            " 0.73918208 0.73460767 0.74894538 0.76239552 0.75238407 0.75529861\n",
            " 0.75530291 0.75428951 0.75304741 0.75190967 0.75103742 0.75049639\n",
            " 0.75028276 0.75034058 0.75058568 0.75092387 0.75126749 0.75154614\n",
            " 0.75171334 0.75174707 0.7516495  0.7514407  0.75115329 0.75082541\n",
            " 0.75049704 0.75020295 0.74997109 0.74982041]\n",
            "24 day output [[0.7497607]]\n",
            "25 day input [0.71217392 0.70781709 0.73947218 0.70808939 0.7355238  0.74464591\n",
            " 0.74539474 0.74219519 0.76860847 0.78344892 0.80312272 0.78276816\n",
            " 0.75179383 0.82626838 0.80993027 0.79161797 0.75335957 0.71149317\n",
            " 0.70965513 0.71333731 0.71729225 0.68572093 0.76754725 0.78684462\n",
            " 0.77716184 0.78916304 0.78063946 0.79379986 0.79768661 0.77532075\n",
            " 0.79011768 0.79618646 0.77600264 0.74947727 0.72867975 0.77545713\n",
            " 0.77736641 0.77395698 0.76591072 0.74054456 0.72711141 0.73877166\n",
            " 0.73543042 0.75131836 0.75800085 0.74259022 0.69683567 0.68326614\n",
            " 0.66867378 0.66819646 0.68967587 0.66771914 0.66633287 0.65383858\n",
            " 0.62659693 0.65097104 0.65315583 0.61997427 0.62878172 0.6196329\n",
            " 0.65103931 0.65465788 0.65861781 0.67746166 0.67691546 0.68613256\n",
            " 0.69418899 0.68920493 0.68961457 0.70736602 0.72948706 0.73918208\n",
            " 0.73460767 0.74894538 0.76239552 0.75238407 0.75529861 0.75530291\n",
            " 0.75428951 0.75304741 0.75190967 0.75103742 0.75049639 0.75028276\n",
            " 0.75034058 0.75058568 0.75092387 0.75126749 0.75154614 0.75171334\n",
            " 0.75174707 0.7516495  0.7514407  0.75115329 0.75082541 0.75049704\n",
            " 0.75020295 0.74997109 0.74982041 0.74976069]\n",
            "25 day output [[0.74979335]]\n",
            "26 day input [0.70781709 0.73947218 0.70808939 0.7355238  0.74464591 0.74539474\n",
            " 0.74219519 0.76860847 0.78344892 0.80312272 0.78276816 0.75179383\n",
            " 0.82626838 0.80993027 0.79161797 0.75335957 0.71149317 0.70965513\n",
            " 0.71333731 0.71729225 0.68572093 0.76754725 0.78684462 0.77716184\n",
            " 0.78916304 0.78063946 0.79379986 0.79768661 0.77532075 0.79011768\n",
            " 0.79618646 0.77600264 0.74947727 0.72867975 0.77545713 0.77736641\n",
            " 0.77395698 0.76591072 0.74054456 0.72711141 0.73877166 0.73543042\n",
            " 0.75131836 0.75800085 0.74259022 0.69683567 0.68326614 0.66867378\n",
            " 0.66819646 0.68967587 0.66771914 0.66633287 0.65383858 0.62659693\n",
            " 0.65097104 0.65315583 0.61997427 0.62878172 0.6196329  0.65103931\n",
            " 0.65465788 0.65861781 0.67746166 0.67691546 0.68613256 0.69418899\n",
            " 0.68920493 0.68961457 0.70736602 0.72948706 0.73918208 0.73460767\n",
            " 0.74894538 0.76239552 0.75238407 0.75529861 0.75530291 0.75428951\n",
            " 0.75304741 0.75190967 0.75103742 0.75049639 0.75028276 0.75034058\n",
            " 0.75058568 0.75092387 0.75126749 0.75154614 0.75171334 0.75174707\n",
            " 0.7516495  0.7514407  0.75115329 0.75082541 0.75049704 0.75020295\n",
            " 0.74997109 0.74982041 0.74976069 0.74979335]\n",
            "26 day output [[0.7499126]]\n",
            "27 day input [0.73947218 0.70808939 0.7355238  0.74464591 0.74539474 0.74219519\n",
            " 0.76860847 0.78344892 0.80312272 0.78276816 0.75179383 0.82626838\n",
            " 0.80993027 0.79161797 0.75335957 0.71149317 0.70965513 0.71333731\n",
            " 0.71729225 0.68572093 0.76754725 0.78684462 0.77716184 0.78916304\n",
            " 0.78063946 0.79379986 0.79768661 0.77532075 0.79011768 0.79618646\n",
            " 0.77600264 0.74947727 0.72867975 0.77545713 0.77736641 0.77395698\n",
            " 0.76591072 0.74054456 0.72711141 0.73877166 0.73543042 0.75131836\n",
            " 0.75800085 0.74259022 0.69683567 0.68326614 0.66867378 0.66819646\n",
            " 0.68967587 0.66771914 0.66633287 0.65383858 0.62659693 0.65097104\n",
            " 0.65315583 0.61997427 0.62878172 0.6196329  0.65103931 0.65465788\n",
            " 0.65861781 0.67746166 0.67691546 0.68613256 0.69418899 0.68920493\n",
            " 0.68961457 0.70736602 0.72948706 0.73918208 0.73460767 0.74894538\n",
            " 0.76239552 0.75238407 0.75529861 0.75530291 0.75428951 0.75304741\n",
            " 0.75190967 0.75103742 0.75049639 0.75028276 0.75034058 0.75058568\n",
            " 0.75092387 0.75126749 0.75154614 0.75171334 0.75174707 0.7516495\n",
            " 0.7514407  0.75115329 0.75082541 0.75049704 0.75020295 0.74997109\n",
            " 0.74982041 0.74976069 0.74979335 0.74991262]\n",
            "27 day output [[0.75010854]]\n",
            "28 day input [0.70808939 0.7355238  0.74464591 0.74539474 0.74219519 0.76860847\n",
            " 0.78344892 0.80312272 0.78276816 0.75179383 0.82626838 0.80993027\n",
            " 0.79161797 0.75335957 0.71149317 0.70965513 0.71333731 0.71729225\n",
            " 0.68572093 0.76754725 0.78684462 0.77716184 0.78916304 0.78063946\n",
            " 0.79379986 0.79768661 0.77532075 0.79011768 0.79618646 0.77600264\n",
            " 0.74947727 0.72867975 0.77545713 0.77736641 0.77395698 0.76591072\n",
            " 0.74054456 0.72711141 0.73877166 0.73543042 0.75131836 0.75800085\n",
            " 0.74259022 0.69683567 0.68326614 0.66867378 0.66819646 0.68967587\n",
            " 0.66771914 0.66633287 0.65383858 0.62659693 0.65097104 0.65315583\n",
            " 0.61997427 0.62878172 0.6196329  0.65103931 0.65465788 0.65861781\n",
            " 0.67746166 0.67691546 0.68613256 0.69418899 0.68920493 0.68961457\n",
            " 0.70736602 0.72948706 0.73918208 0.73460767 0.74894538 0.76239552\n",
            " 0.75238407 0.75529861 0.75530291 0.75428951 0.75304741 0.75190967\n",
            " 0.75103742 0.75049639 0.75028276 0.75034058 0.75058568 0.75092387\n",
            " 0.75126749 0.75154614 0.75171334 0.75174707 0.7516495  0.7514407\n",
            " 0.75115329 0.75082541 0.75049704 0.75020295 0.74997109 0.74982041\n",
            " 0.74976069 0.74979335 0.74991262 0.75010854]\n",
            "28 day output [[0.7503671]]\n",
            "29 day input [0.7355238  0.74464591 0.74539474 0.74219519 0.76860847 0.78344892\n",
            " 0.80312272 0.78276816 0.75179383 0.82626838 0.80993027 0.79161797\n",
            " 0.75335957 0.71149317 0.70965513 0.71333731 0.71729225 0.68572093\n",
            " 0.76754725 0.78684462 0.77716184 0.78916304 0.78063946 0.79379986\n",
            " 0.79768661 0.77532075 0.79011768 0.79618646 0.77600264 0.74947727\n",
            " 0.72867975 0.77545713 0.77736641 0.77395698 0.76591072 0.74054456\n",
            " 0.72711141 0.73877166 0.73543042 0.75131836 0.75800085 0.74259022\n",
            " 0.69683567 0.68326614 0.66867378 0.66819646 0.68967587 0.66771914\n",
            " 0.66633287 0.65383858 0.62659693 0.65097104 0.65315583 0.61997427\n",
            " 0.62878172 0.6196329  0.65103931 0.65465788 0.65861781 0.67746166\n",
            " 0.67691546 0.68613256 0.69418899 0.68920493 0.68961457 0.70736602\n",
            " 0.72948706 0.73918208 0.73460767 0.74894538 0.76239552 0.75238407\n",
            " 0.75529861 0.75530291 0.75428951 0.75304741 0.75190967 0.75103742\n",
            " 0.75049639 0.75028276 0.75034058 0.75058568 0.75092387 0.75126749\n",
            " 0.75154614 0.75171334 0.75174707 0.7516495  0.7514407  0.75115329\n",
            " 0.75082541 0.75049704 0.75020295 0.74997109 0.74982041 0.74976069\n",
            " 0.74979335 0.74991262 0.75010854 0.75036711]\n",
            "29 day output [[0.7506739]]\n"
          ]
        }
      ],
      "source": [
        "\n",
        "\n",
        "lst_output=[]\n",
        "n_steps=100\n",
        "i=0\n",
        "while(i<30):\n",
        "    \n",
        "    if(len(temp_input)>100):\n",
        "        #print(temp_input)\n",
        "        x_input=np.array(temp_input[1:])\n",
        "        print(\"{} day input {}\".format(i,x_input))\n",
        "        x_input=x_input.reshape(1,-1)\n",
        "        x_input = x_input.reshape((1, n_steps, 1))\n",
        "        #print(x_input)\n",
        "        yhat = model.predict(x_input, verbose=0)\n",
        "        print(\"{} day output {}\".format(i,yhat))\n",
        "        temp_input.extend(yhat[0].tolist())\n",
        "        temp_input=temp_input[1:]\n",
        "        #print(temp_input)\n",
        "        lst_output.extend(yhat.tolist())\n",
        "        i=i+1\n",
        "    else:\n",
        "        x_input = x_input.reshape((1, n_steps,1))\n",
        "        yhat = model.predict(x_input, verbose=0)\n",
        "        print(yhat[0])\n",
        "        temp_input.extend(yhat[0].tolist())\n",
        "        print(len(temp_input))\n",
        "        lst_output.extend(yhat.tolist())\n",
        "        i=i+1\n",
        "    "
      ]
    },
    {
      "cell_type": "code",
      "source": [],
      "metadata": {
        "id": "8_aTLDQ20E5e"
      },
      "execution_count": null,
      "outputs": []
    },
    {
      "cell_type": "code",
      "execution_count": null,
      "metadata": {
        "id": "vWJSvo_ZVc_L"
      },
      "outputs": [],
      "source": [
        "# day_new=np.arange(1,151)\n",
        "# day_pred=np.arange(151,181)"
      ]
    },
    {
      "cell_type": "code",
      "source": [
        "# day_pred.shape"
      ],
      "metadata": {
        "id": "8A4r_HBt0hr4",
        "colab": {
          "base_uri": "https://localhost:8080/"
        },
        "outputId": "25d747ff-ec5d-481e-ee18-e824e3b859ed"
      },
      "execution_count": null,
      "outputs": [
        {
          "output_type": "execute_result",
          "data": {
            "text/plain": [
              "(30,)"
            ]
          },
          "metadata": {},
          "execution_count": 40
        }
      ]
    },
    {
      "cell_type": "code",
      "execution_count": null,
      "metadata": {
        "id": "HtRoU-HxVwiK"
      },
      "outputs": [],
      "source": [
        "import matplotlib.pyplot as plt\n",
        "\n"
      ]
    },
    {
      "cell_type": "code",
      "execution_count": null,
      "metadata": {
        "id": "e2szIhsKVyJJ",
        "colab": {
          "base_uri": "https://localhost:8080/"
        },
        "outputId": "c3557684-ad63-447b-efc5-fe656496fa73"
      },
      "outputs": [
        {
          "output_type": "execute_result",
          "data": {
            "text/plain": [
              "1258"
            ]
          },
          "metadata": {},
          "execution_count": 42
        }
      ],
      "source": [
        "len(df1)\n"
      ]
    },
    {
      "cell_type": "code",
      "execution_count": null,
      "metadata": {
        "id": "YVt_Sww_VztC"
      },
      "outputs": [],
      "source": [
        "# plt.plot(day_new,scaler.inverse_transform(df1[1157:]))\n",
        "# plt.plot(day_pred,scaler.inverse_transform(lst_output))"
      ]
    },
    {
      "cell_type": "code",
      "source": [
        "print(58+30)"
      ],
      "metadata": {
        "id": "LALvglDk5hLr",
        "colab": {
          "base_uri": "https://localhost:8080/"
        },
        "outputId": "e1655e22-003e-4e86-c14a-edb94128e6d9"
      },
      "execution_count": null,
      "outputs": [
        {
          "output_type": "stream",
          "name": "stdout",
          "text": [
            "88\n"
          ]
        }
      ]
    },
    {
      "cell_type": "code",
      "execution_count": null,
      "metadata": {
        "id": "DQuKIZxMV29r",
        "colab": {
          "base_uri": "https://localhost:8080/",
          "height": 282
        },
        "outputId": "6702be52-d154-4f83-9e82-a9b12e643de0"
      },
      "outputs": [
        {
          "output_type": "execute_result",
          "data": {
            "text/plain": [
              "[<matplotlib.lines.Line2D at 0x7f2cd2eccf70>]"
            ]
          },
          "metadata": {},
          "execution_count": 45
        },
        {
          "output_type": "display_data",
          "data": {
            "text/plain": [
              "<Figure size 432x288 with 1 Axes>"
            ],
            "image/png": "[encoded data removed]"
          },
          "metadata": {
            "needs_background": "light"
          }
        }
      ],
      "source": [
        "df3=df1.tolist()\n",
        "df3.extend(lst_output)\n",
        "plt.plot(df3[1200:]) \n"
      ]
    },
    {
      "cell_type": "code",
      "execution_count": null,
      "metadata": {
        "id": "ZcNtWLPiXGKh"
      },
      "outputs": [],
      "source": [
        "df3=scaler.inverse_transform(df3).tolist()\n"
      ]
    },
    {
      "cell_type": "code",
      "execution_count": null,
      "metadata": {
        "id": "7QT1TDxeXIPh",
        "colab": {
          "base_uri": "https://localhost:8080/",
          "height": 282
        },
        "outputId": "4c1360b8-7dbe-4e31-ad1e-f2c1bdc24e72"
      },
      "outputs": [
        {
          "output_type": "execute_result",
          "data": {
            "text/plain": [
              "[<matplotlib.lines.Line2D at 0x7f2cd2fe9d90>]"
            ]
          },
          "metadata": {},
          "execution_count": 47
        },
        {
          "output_type": "display_data",
          "data": {
            "text/plain": [
              "<Figure size 432x288 with 1 Axes>"
            ],
            "image/png": "[encoded data removed]"
          },
          "metadata": {
            "needs_background": "light"
          }
        }
      ],
      "source": [
        "plt.plot(df3)\n"
      ]
    },
    {
      "cell_type": "code",
      "execution_count": null,
      "metadata": {
        "id": "asLJ2bCVhIXw"
      },
      "outputs": [],
      "source": [
        "# final_data = scaler.inverse_transform(test_data)\n",
        "#print(final_data)"
      ]
    },
    {
      "cell_type": "markdown",
      "metadata": {
        "id": "6OWlGPKJIegx"
      },
      "source": [
        "**Predicting Values**:"
      ]
    },
    {
      "cell_type": "code",
      "execution_count": null,
      "metadata": {
        "id": "zGcu12KthTep",
        "colab": {
          "base_uri": "https://localhost:8080/"
        },
        "outputId": "807bc9ee-a42b-450e-f304-1535d3296e61"
      },
      "outputs": [
        {
          "output_type": "stream",
          "name": "stdout",
          "text": [
            "Enter the no. of duration to predict : 10\n",
            "Predicted values are :  [[0.7523840665817261], [0.7552986145019531], [0.755302906036377], [0.7542895078659058], [0.7530474066734314], [0.7519096732139587], [0.7510374188423157], [0.7504963874816895], [0.7502827644348145], [0.7503405809402466]]\n"
          ]
        }
      ],
      "source": [
        "#final model\n",
        "g_input=test_data[341:].reshape(1,-1)\n",
        "# g_input.shape\n",
        "# print(g_input)\n",
        "\n",
        "final_input=list(g_input)\n",
        "final_input=final_input[0].tolist()\n",
        "# print(len(final_input))\n",
        "\n",
        "from numpy import array\n",
        "def predictor(duration,final_input,g_input):\n",
        "  lst_output=[]\n",
        "  n_steps=100\n",
        "  i=0\n",
        "  while(i<duration):\n",
        "      \n",
        "      if(len(final_input)>100):\n",
        "          #print(temp_input)\n",
        "          g_input=np.array(final_input[1:])\n",
        "          # print(\"{} day input {}\".format(i,x_input))\n",
        "          g_input=g_input.reshape(1,-1)\n",
        "          g_input = g_input.reshape((1, n_steps, 1))\n",
        "          #print(x_input)\n",
        "          yhat = model.predict(g_input, verbose=0)\n",
        "          # print(\"{} day output {}\".format(i,yhat))\n",
        "          # yhat=scaler.inverse_transform(yhat)\n",
        "          # yhat = yhat.reshape(1,-1)\n",
        "          final_input.extend(yhat[0].tolist())\n",
        "          final_input=final_input[1:]\n",
        "          #print(temp_input)\n",
        "          lst_output.extend(yhat.tolist())\n",
        "          i=i+1\n",
        "      else:\n",
        "          g_input = g_input.reshape((1, n_steps,1))\n",
        "          yhat = model.predict(g_input, verbose=0)\n",
        "          # print(yhat[0])\n",
        "          # yhat=scaler.inverse_transform(yhat)\n",
        "          # yhat = yhat.reshape(1,-1)\n",
        "          final_input.extend(yhat[0].tolist())\n",
        "          # print(len(final_input))\n",
        "          lst_output.extend(yhat.tolist())\n",
        "          i=i+1\n",
        "  return lst_output\n",
        "\n",
        "#predicting values\n",
        "\n",
        "duration =int(input(\"Enter the no. of duration to predict : \"))\n",
        "prediction = predictor(duration,final_input,g_input)\n",
        "print(\"Predicted values are : \",prediction)"
      ]
    },
    {
      "cell_type": "code",
      "execution_count": null,
      "metadata": {
        "id": "Ev3FmQRSZCw5"
      },
      "outputs": [],
      "source": [
        "import matplotlib.pyplot as plt"
      ]
    },
    {
      "cell_type": "code",
      "execution_count": null,
      "metadata": {
        "id": "DmrlbSC9ZTmo",
        "colab": {
          "base_uri": "https://localhost:8080/",
          "height": 265
        },
        "outputId": "2bed0e7c-69de-450b-c02d-212460e2e70a"
      },
      "outputs": [
        {
          "output_type": "display_data",
          "data": {
            "text/plain": [
              "<Figure size 432x288 with 1 Axes>"
            ],
            "image/png": "[encoded data removed]"
          },
          "metadata": {
            "needs_background": "light"
          }
        }
      ],
      "source": [
        "plt.plot(prediction)\n",
        "plt.show()"
      ]
    },
    {
      "cell_type": "code",
      "source": [
        "df3=df1.tolist()\n",
        "df3.extend(prediction)\n",
        "plt.plot(df3[1200:]) "
      ],
      "metadata": {
        "colab": {
          "base_uri": "https://localhost:8080/",
          "height": 282
        },
        "id": "5bwFz3Uc7NEZ",
        "outputId": "b360b8f5-10f4-4c0a-a949-905ef605aba3"
      },
      "execution_count": null,
      "outputs": [
        {
          "output_type": "execute_result",
          "data": {
            "text/plain": [
              "[<matplotlib.lines.Line2D at 0x7f2cce98d160>]"
            ]
          },
          "metadata": {},
          "execution_count": 64
        },
        {
          "output_type": "display_data",
          "data": {
            "text/plain": [
              "<Figure size 432x288 with 1 Axes>"
            ],
            "image/png": "[encoded data removed]"
          },
          "metadata": {
            "needs_background": "light"
          }
        }
      ]
    },
    {
      "cell_type": "code",
      "execution_count": null,
      "metadata": {
        "id": "oNkkaa6UeT9J"
      },
      "outputs": [],
      "source": [
        "# import pickle \n",
        "# pickle.out = open(\"Model.pkl\",'wb')\n",
        "# pickle.dump(model,pickle.out)\n",
        "# pickle.out.close()"
      ]
    },
    {
      "cell_type": "code",
      "execution_count": null,
      "metadata": {
        "id": "MyLAqBSWtH0N"
      },
      "outputs": [],
      "source": [
        "# pickle.dump(test_data,open('test_data.pkl','wb'))\n"
      ]
    },
    {
      "cell_type": "code",
      "execution_count": null,
      "metadata": {
        "id": "iqvU2JGoxN2f"
      },
      "outputs": [],
      "source": []
    }
  ],
  "metadata": {
    "colab": {
      "provenance": [],
      "mount_file_id": "1xpAL7cCQo_aiBHvqKUuX730_kuViIFoN",
      "authorship_tag": "ABX9TyMpi109lqppFSGUxicf9dNo",
      "include_colab_link": true
    },
    "kernelspec": {
      "display_name": "Python 3",
      "name": "python3"
    },
    "language_info": {
      "name": "python"
    }
  },
  "nbformat": 4,
  "nbformat_minor": 0
}